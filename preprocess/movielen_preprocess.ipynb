{
 "cells": [
  {
   "cell_type": "code",
   "execution_count": 1,
   "metadata": {},
   "outputs": [],
   "source": [
    "import pandas as pd\n",
    "import re"
   ]
  },
  {
   "cell_type": "markdown",
   "metadata": {},
   "source": [
    "# Tiền xử lý trước khi schema matching"
   ]
  },
  {
   "cell_type": "code",
   "execution_count": 16,
   "metadata": {},
   "outputs": [
    {
     "data": {
      "text/html": [
       "<div>\n",
       "<style scoped>\n",
       "    .dataframe tbody tr th:only-of-type {\n",
       "        vertical-align: middle;\n",
       "    }\n",
       "\n",
       "    .dataframe tbody tr th {\n",
       "        vertical-align: top;\n",
       "    }\n",
       "\n",
       "    .dataframe thead th {\n",
       "        text-align: right;\n",
       "    }\n",
       "</style>\n",
       "<table border=\"1\" class=\"dataframe\">\n",
       "  <thead>\n",
       "    <tr style=\"text-align: right;\">\n",
       "      <th></th>\n",
       "      <th>movieId</th>\n",
       "      <th>title</th>\n",
       "      <th>genres</th>\n",
       "    </tr>\n",
       "  </thead>\n",
       "  <tbody>\n",
       "    <tr>\n",
       "      <th>0</th>\n",
       "      <td>1</td>\n",
       "      <td>Toy Story (1995)</td>\n",
       "      <td>Adventure|Animation|Children|Comedy|Fantasy</td>\n",
       "    </tr>\n",
       "    <tr>\n",
       "      <th>1</th>\n",
       "      <td>2</td>\n",
       "      <td>Jumanji (1995)</td>\n",
       "      <td>Adventure|Children|Fantasy</td>\n",
       "    </tr>\n",
       "    <tr>\n",
       "      <th>2</th>\n",
       "      <td>3</td>\n",
       "      <td>Grumpier Old Men (1995)</td>\n",
       "      <td>Comedy|Romance</td>\n",
       "    </tr>\n",
       "    <tr>\n",
       "      <th>3</th>\n",
       "      <td>4</td>\n",
       "      <td>Waiting to Exhale (1995)</td>\n",
       "      <td>Comedy|Drama|Romance</td>\n",
       "    </tr>\n",
       "    <tr>\n",
       "      <th>4</th>\n",
       "      <td>5</td>\n",
       "      <td>Father of the Bride Part II (1995)</td>\n",
       "      <td>Comedy</td>\n",
       "    </tr>\n",
       "  </tbody>\n",
       "</table>\n",
       "</div>"
      ],
      "text/plain": [
       "   movieId                               title  \\\n",
       "0        1                    Toy Story (1995)   \n",
       "1        2                      Jumanji (1995)   \n",
       "2        3             Grumpier Old Men (1995)   \n",
       "3        4            Waiting to Exhale (1995)   \n",
       "4        5  Father of the Bride Part II (1995)   \n",
       "\n",
       "                                        genres  \n",
       "0  Adventure|Animation|Children|Comedy|Fantasy  \n",
       "1                   Adventure|Children|Fantasy  \n",
       "2                               Comedy|Romance  \n",
       "3                         Comedy|Drama|Romance  \n",
       "4                                       Comedy  "
      ]
     },
     "execution_count": 16,
     "metadata": {},
     "output_type": "execute_result"
    }
   ],
   "source": [
    "# Movie Info\n",
    "df_movielen_movie = pd.read_csv(\"/Users/trananhvu/Documents/Tichhopdulieu/Data_Integration_Group23/Data/movielen/movies.csv\")\n",
    "df_movielen_movie.head()"
   ]
  },
  {
   "cell_type": "markdown",
   "metadata": {},
   "source": [
    "Ta thấy title có cấu trúc title + (năm ra mắt phim) => tách thành 2 trường title và year"
   ]
  },
  {
   "cell_type": "code",
   "execution_count": 17,
   "metadata": {},
   "outputs": [],
   "source": [
    "# Split year\n",
    "import re\n",
    "df_movielen_movie[\"year\"]=[re.findall(r'(\\(\\d{4}\\))', i) for i in df_movielen_movie[\"title\"]]"
   ]
  },
  {
   "cell_type": "code",
   "execution_count": 18,
   "metadata": {},
   "outputs": [
    {
     "name": "stdout",
     "output_type": "stream",
     "text": [
      "Những trường hợp ngoại lệ:\n",
      "Title: The Devotion of Suspect X (2017) (2017)\n",
      "Title: Don Quixote (1973) (1973)\n",
      "Số bản ghi có chứa năm ra mắt: 62011\n"
     ]
    }
   ],
   "source": [
    "count=0\n",
    "print(\"Những trường hợp ngoại lệ:\")\n",
    "for idx, i in enumerate(df_movielen_movie[\"year\"]):\n",
    "    if len(i)==1:\n",
    "        count+=1\n",
    "    if len(i)>1:\n",
    "        print(\"Title: \"+df_movielen_movie.iloc[idx][\"title\"])\n",
    "print(\"Số bản ghi có chứa năm ra mắt: \"+str(count))"
   ]
  },
  {
   "cell_type": "markdown",
   "metadata": {},
   "source": [
    "Ta thấy những trường hợp ngoại lệ vẫn có thể suy ra được năm phim ra mắt"
   ]
  },
  {
   "cell_type": "code",
   "execution_count": 19,
   "metadata": {},
   "outputs": [],
   "source": [
    "def year_preprocess(year_list):\n",
    "    if len(year_list)>=1:\n",
    "        # Loại bỏ dấu ngoặc đơn\n",
    "        return int(year_list[0][1:-1])\n",
    "    else:\n",
    "        return None\n",
    "df_movielen_movie[\"year\"]=[year_preprocess(i) for i in df_movielen_movie[\"year\"]]\n",
    "# Loại bỏ năm trong title\n",
    "df_movielen_movie[\"title\"]=[re.sub(r'(\\(\\d{4}\\))', '', i) for i in df_movielen_movie[\"title\"]]"
   ]
  },
  {
   "cell_type": "markdown",
   "metadata": {},
   "source": [
    "Ta tổng hợp lại rating bằng cách tính avgrating và ratecount trong bảng df_movielen_rating "
   ]
  },
  {
   "cell_type": "code",
   "execution_count": 60,
   "metadata": {},
   "outputs": [
    {
     "data": {
      "text/html": [
       "<div>\n",
       "<style scoped>\n",
       "    .dataframe tbody tr th:only-of-type {\n",
       "        vertical-align: middle;\n",
       "    }\n",
       "\n",
       "    .dataframe tbody tr th {\n",
       "        vertical-align: top;\n",
       "    }\n",
       "\n",
       "    .dataframe thead th {\n",
       "        text-align: right;\n",
       "    }\n",
       "</style>\n",
       "<table border=\"1\" class=\"dataframe\">\n",
       "  <thead>\n",
       "    <tr style=\"text-align: right;\">\n",
       "      <th></th>\n",
       "      <th>movieId</th>\n",
       "      <th>avgrating</th>\n",
       "      <th>ratecount</th>\n",
       "    </tr>\n",
       "  </thead>\n",
       "  <tbody>\n",
       "    <tr>\n",
       "      <th>0</th>\n",
       "      <td>1</td>\n",
       "      <td>3.893708</td>\n",
       "      <td>57309</td>\n",
       "    </tr>\n",
       "    <tr>\n",
       "      <th>1</th>\n",
       "      <td>2</td>\n",
       "      <td>3.251527</td>\n",
       "      <td>24228</td>\n",
       "    </tr>\n",
       "    <tr>\n",
       "      <th>2</th>\n",
       "      <td>3</td>\n",
       "      <td>3.142028</td>\n",
       "      <td>11804</td>\n",
       "    </tr>\n",
       "    <tr>\n",
       "      <th>3</th>\n",
       "      <td>4</td>\n",
       "      <td>2.853547</td>\n",
       "      <td>2523</td>\n",
       "    </tr>\n",
       "    <tr>\n",
       "      <th>4</th>\n",
       "      <td>5</td>\n",
       "      <td>3.058434</td>\n",
       "      <td>11714</td>\n",
       "    </tr>\n",
       "  </tbody>\n",
       "</table>\n",
       "</div>"
      ],
      "text/plain": [
       "   movieId  avgrating  ratecount\n",
       "0        1   3.893708      57309\n",
       "1        2   3.251527      24228\n",
       "2        3   3.142028      11804\n",
       "3        4   2.853547       2523\n",
       "4        5   3.058434      11714"
      ]
     },
     "execution_count": 60,
     "metadata": {},
     "output_type": "execute_result"
    }
   ],
   "source": [
    "df_movielen_rating = pd.read_csv(\"/Users/trananhvu/Documents/Tichhopdulieu/Data_Integration_Group23/Data/movielen/ratings.csv\")\n",
    "df_movielen_statistic = pd.DataFrame()\n",
    "df_movielen_statistic[\"movieId\"] = df_movielen_rating.groupby(\"movieId\")[\"rating\"].mean().keys()\n",
    "df_movielen_statistic[\"avgrating\"] = df_movielen_rating.groupby(\"movieId\")[\"rating\"].mean().values\n",
    "df_movielen_statistic[\"ratecount\"] = df_movielen_rating.groupby(\"movieId\")[\"rating\"].count().values\n",
    "df_movielen_statistic.head()"
   ]
  },
  {
   "cell_type": "code",
   "execution_count": 62,
   "metadata": {},
   "outputs": [],
   "source": [
    "df_movielen_final = pd.concat([df_movielen_movie, df_movielen_statistic], axis=1)"
   ]
  },
  {
   "cell_type": "code",
   "execution_count": 65,
   "metadata": {},
   "outputs": [],
   "source": [
    "df_movielen_final.to_csv(\"/Users/trananhvu/Documents/Tichhopdulieu/Data_Integration_Group23/Data/movielen/movies_preprocess_1.csv\", index=False)"
   ]
  }
 ],
 "metadata": {
  "interpreter": {
   "hash": "5f2e2af27bdde5936ad554feb7aa504e3a6118ea1851ab67384e2724f8720947"
  },
  "kernelspec": {
   "display_name": "Python 3.9.12 ('venv': venv)",
   "language": "python",
   "name": "python3"
  },
  "language_info": {
   "codemirror_mode": {
    "name": "ipython",
    "version": 3
   },
   "file_extension": ".py",
   "mimetype": "text/x-python",
   "name": "python",
   "nbconvert_exporter": "python",
   "pygments_lexer": "ipython3",
   "version": "3.9.12"
  },
  "orig_nbformat": 4
 },
 "nbformat": 4,
 "nbformat_minor": 2
}
