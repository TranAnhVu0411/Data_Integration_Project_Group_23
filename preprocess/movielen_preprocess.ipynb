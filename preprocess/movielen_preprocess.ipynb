{
 "cells": [
  {
   "cell_type": "code",
   "execution_count": 20,
   "metadata": {},
   "outputs": [],
   "source": [
    "import os\n",
    "# Chỉnh lại tên directory theo tên parent_dir trong folder_create.py\n",
    "os.chdir(\"/Users/trananhvu/Documents/Tichhopdulieu/Data_Integration_Group23/Data_Integration_Project_Group_23\")"
   ]
  },
  {
   "cell_type": "code",
   "execution_count": 21,
   "metadata": {},
   "outputs": [],
   "source": [
    "import pandas as pd\n",
    "import re\n",
    "from datetime import datetime\n",
    "import folder_create as folder"
   ]
  },
  {
   "cell_type": "code",
   "execution_count": 22,
   "metadata": {},
   "outputs": [
    {
     "data": {
      "text/html": [
       "<div>\n",
       "<style scoped>\n",
       "    .dataframe tbody tr th:only-of-type {\n",
       "        vertical-align: middle;\n",
       "    }\n",
       "\n",
       "    .dataframe tbody tr th {\n",
       "        vertical-align: top;\n",
       "    }\n",
       "\n",
       "    .dataframe thead th {\n",
       "        text-align: right;\n",
       "    }\n",
       "</style>\n",
       "<table border=\"1\" class=\"dataframe\">\n",
       "  <thead>\n",
       "    <tr style=\"text-align: right;\">\n",
       "      <th></th>\n",
       "      <th>movieId</th>\n",
       "      <th>title</th>\n",
       "      <th>genres</th>\n",
       "    </tr>\n",
       "  </thead>\n",
       "  <tbody>\n",
       "    <tr>\n",
       "      <th>0</th>\n",
       "      <td>1</td>\n",
       "      <td>Toy Story (1995)</td>\n",
       "      <td>Adventure|Animation|Children|Comedy|Fantasy</td>\n",
       "    </tr>\n",
       "    <tr>\n",
       "      <th>1</th>\n",
       "      <td>2</td>\n",
       "      <td>Jumanji (1995)</td>\n",
       "      <td>Adventure|Children|Fantasy</td>\n",
       "    </tr>\n",
       "    <tr>\n",
       "      <th>2</th>\n",
       "      <td>3</td>\n",
       "      <td>Grumpier Old Men (1995)</td>\n",
       "      <td>Comedy|Romance</td>\n",
       "    </tr>\n",
       "    <tr>\n",
       "      <th>3</th>\n",
       "      <td>4</td>\n",
       "      <td>Waiting to Exhale (1995)</td>\n",
       "      <td>Comedy|Drama|Romance</td>\n",
       "    </tr>\n",
       "    <tr>\n",
       "      <th>4</th>\n",
       "      <td>5</td>\n",
       "      <td>Father of the Bride Part II (1995)</td>\n",
       "      <td>Comedy</td>\n",
       "    </tr>\n",
       "  </tbody>\n",
       "</table>\n",
       "</div>"
      ],
      "text/plain": [
       "   movieId                               title  \\\n",
       "0        1                    Toy Story (1995)   \n",
       "1        2                      Jumanji (1995)   \n",
       "2        3             Grumpier Old Men (1995)   \n",
       "3        4            Waiting to Exhale (1995)   \n",
       "4        5  Father of the Bride Part II (1995)   \n",
       "\n",
       "                                        genres  \n",
       "0  Adventure|Animation|Children|Comedy|Fantasy  \n",
       "1                   Adventure|Children|Fantasy  \n",
       "2                               Comedy|Romance  \n",
       "3                         Comedy|Drama|Romance  \n",
       "4                                       Comedy  "
      ]
     },
     "execution_count": 22,
     "metadata": {},
     "output_type": "execute_result"
    }
   ],
   "source": [
    "# Movie Info\n",
    "df_movielen_movie = pd.read_csv(os.path.join(folder.movielen_dir, \"movies.csv\"))\n",
    "df_movielen_movie.head()"
   ]
  },
  {
   "cell_type": "code",
   "execution_count": 23,
   "metadata": {},
   "outputs": [
    {
     "data": {
      "text/html": [
       "<div>\n",
       "<style scoped>\n",
       "    .dataframe tbody tr th:only-of-type {\n",
       "        vertical-align: middle;\n",
       "    }\n",
       "\n",
       "    .dataframe tbody tr th {\n",
       "        vertical-align: top;\n",
       "    }\n",
       "\n",
       "    .dataframe thead th {\n",
       "        text-align: right;\n",
       "    }\n",
       "</style>\n",
       "<table border=\"1\" class=\"dataframe\">\n",
       "  <thead>\n",
       "    <tr style=\"text-align: right;\">\n",
       "      <th></th>\n",
       "      <th>userId</th>\n",
       "      <th>movieId</th>\n",
       "      <th>rating</th>\n",
       "      <th>timestamp</th>\n",
       "    </tr>\n",
       "  </thead>\n",
       "  <tbody>\n",
       "    <tr>\n",
       "      <th>0</th>\n",
       "      <td>1</td>\n",
       "      <td>296</td>\n",
       "      <td>5.0</td>\n",
       "      <td>1147880044</td>\n",
       "    </tr>\n",
       "    <tr>\n",
       "      <th>1</th>\n",
       "      <td>1</td>\n",
       "      <td>306</td>\n",
       "      <td>3.5</td>\n",
       "      <td>1147868817</td>\n",
       "    </tr>\n",
       "    <tr>\n",
       "      <th>2</th>\n",
       "      <td>1</td>\n",
       "      <td>307</td>\n",
       "      <td>5.0</td>\n",
       "      <td>1147868828</td>\n",
       "    </tr>\n",
       "    <tr>\n",
       "      <th>3</th>\n",
       "      <td>1</td>\n",
       "      <td>665</td>\n",
       "      <td>5.0</td>\n",
       "      <td>1147878820</td>\n",
       "    </tr>\n",
       "    <tr>\n",
       "      <th>4</th>\n",
       "      <td>1</td>\n",
       "      <td>899</td>\n",
       "      <td>3.5</td>\n",
       "      <td>1147868510</td>\n",
       "    </tr>\n",
       "  </tbody>\n",
       "</table>\n",
       "</div>"
      ],
      "text/plain": [
       "   userId  movieId  rating   timestamp\n",
       "0       1      296     5.0  1147880044\n",
       "1       1      306     3.5  1147868817\n",
       "2       1      307     5.0  1147868828\n",
       "3       1      665     5.0  1147878820\n",
       "4       1      899     3.5  1147868510"
      ]
     },
     "execution_count": 23,
     "metadata": {},
     "output_type": "execute_result"
    }
   ],
   "source": [
    "# Rating Info\n",
    "df_movielen_rating = pd.read_csv(os.path.join(folder.movielen_dir,\"ratings.csv\"))\n",
    "df_movielen_rating.head()"
   ]
  },
  {
   "cell_type": "markdown",
   "metadata": {},
   "source": [
    "Kết quả Schema Matching: (Những trường bị đánh * trong Source Schema là bị matching sai)\n",
    "\n",
    "- Bảng Movie\n",
    "\n",
    "| Source Schema | Data warehouse Schema |\n",
    "|---------------|-----------------------|\n",
    "| movieId*      | runtime               |\n",
    "| title         | movie_title           |\n",
    "| genres        | genres                |\n",
    "\n",
    "- Bảng Rating: như nhận xét, kết quả matching sai hoàn toàn\n",
    "\n",
    "- Bảng Review:\n",
    "\n",
    "| Source Schema | Data warehouse Schema |\n",
    "|---------------|-----------------------|\n",
    "| userId*       | review_content        |\n",
    "| movieId*      | review_date           |\n",
    "| rating        | review_score          |\n",
    "| timestamp     | movie_id              |\n",
    "\n",
    "Nhận xét và hướng xử lý của các trường:\n",
    "\n",
    "- Bảng Movie:\n",
    "    +  Ở đây ta thấy title trong dữ liệu có cấu trúc là tên phim + (năm ra mắt phim) => tách trường title thành 2 trường title và year\n",
    "    + Cấu trúc giá trị của genres theo như mô tả trong data warehouse là <genres 1>, <genres 2>, ... , trong khi đó ở trong MovieLen, cấu trúc của genres lại là <genres 1>|<genres 2>|... , đồng thời các thể loại trong MovieLen có thể khác so với thể loại trong Data Warehouse => cần phải biến đổi lại\n",
    "    + Các thông tin về movie_info, production_company, directors, actors, runtime, content_rating, image không có sẵn trong nguồn MovieLen\n",
    "- Bảng Rating:\n",
    "    + Về các thông tin của avg_rating, rating_count, ta sẽ cập nhật từ dữ liệu rating của MovieLen\n",
    "    + Thông tin về link phim không có sẵn trong nguồn MovieLen\n",
    "- Bảng Review:\n",
    "    + Trường movie_id trong data warehouse bị matching sai, trường đúng phải là movieId (Lý do sai chưa rõ)\n",
    "    + Trường review_date trong data warehouse bị matching sai, trường đúng phải là timestamp, lý do sai là do trường timestamp trong movielen đang để dưới dạng timestamp (milisecond), trong khi đó trường review_date trong warehouse lại sử dụng date dạng YYYY/mm/DD => Convert lại về dạng date \n",
    "    + Thông tin về review_content không có sẵn trong nguồn MovieLen"
   ]
  },
  {
   "cell_type": "markdown",
   "metadata": {},
   "source": [
    "# Xử lý trường title"
   ]
  },
  {
   "cell_type": "code",
   "execution_count": 4,
   "metadata": {},
   "outputs": [],
   "source": [
    "# Split year\n",
    "import re\n",
    "df_movielen_movie[\"year\"]=[re.findall(r'(\\(\\d{4}\\))', i) for i in df_movielen_movie[\"title\"]]"
   ]
  },
  {
   "cell_type": "code",
   "execution_count": 5,
   "metadata": {},
   "outputs": [
    {
     "name": "stdout",
     "output_type": "stream",
     "text": [
      "Những trường hợp ngoại lệ:\n",
      "Title: The Devotion of Suspect X (2017) (2017)\n",
      "Title: Don Quixote (1973) (1973)\n",
      "Số bản ghi có chứa năm ra mắt: 62011\n"
     ]
    }
   ],
   "source": [
    "count=0\n",
    "print(\"Những trường hợp ngoại lệ:\")\n",
    "for idx, i in enumerate(df_movielen_movie[\"year\"]):\n",
    "    if len(i)==1:\n",
    "        count+=1\n",
    "    if len(i)>1:\n",
    "        print(\"Title: \"+df_movielen_movie.iloc[idx][\"title\"])\n",
    "print(\"Số bản ghi có chứa năm ra mắt: \"+str(count))"
   ]
  },
  {
   "cell_type": "markdown",
   "metadata": {},
   "source": [
    "Ta thấy những trường hợp ngoại lệ vẫn có thể suy ra được năm phim ra mắt"
   ]
  },
  {
   "cell_type": "code",
   "execution_count": 6,
   "metadata": {},
   "outputs": [],
   "source": [
    "def year_preprocess(year_list):\n",
    "    if len(year_list)>=1:\n",
    "        # Loại bỏ dấu ngoặc đơn\n",
    "        return float(year_list[0][1:-1])\n",
    "    else:\n",
    "        return None\n",
    "df_movielen_movie[\"year\"]=[year_preprocess(i) for i in df_movielen_movie[\"year\"]]\n",
    "# Loại bỏ năm trong title\n",
    "df_movielen_movie[\"title\"]=[re.sub(r'(\\(\\d{4}\\))', '', i) for i in df_movielen_movie[\"title\"]]"
   ]
  },
  {
   "cell_type": "code",
   "execution_count": 7,
   "metadata": {},
   "outputs": [
    {
     "data": {
      "text/html": [
       "<div>\n",
       "<style scoped>\n",
       "    .dataframe tbody tr th:only-of-type {\n",
       "        vertical-align: middle;\n",
       "    }\n",
       "\n",
       "    .dataframe tbody tr th {\n",
       "        vertical-align: top;\n",
       "    }\n",
       "\n",
       "    .dataframe thead th {\n",
       "        text-align: right;\n",
       "    }\n",
       "</style>\n",
       "<table border=\"1\" class=\"dataframe\">\n",
       "  <thead>\n",
       "    <tr style=\"text-align: right;\">\n",
       "      <th></th>\n",
       "      <th>movieId</th>\n",
       "      <th>title</th>\n",
       "      <th>genres</th>\n",
       "      <th>year</th>\n",
       "    </tr>\n",
       "  </thead>\n",
       "  <tbody>\n",
       "    <tr>\n",
       "      <th>0</th>\n",
       "      <td>1</td>\n",
       "      <td>Toy Story</td>\n",
       "      <td>Adventure|Animation|Children|Comedy|Fantasy</td>\n",
       "      <td>1995.0</td>\n",
       "    </tr>\n",
       "    <tr>\n",
       "      <th>1</th>\n",
       "      <td>2</td>\n",
       "      <td>Jumanji</td>\n",
       "      <td>Adventure|Children|Fantasy</td>\n",
       "      <td>1995.0</td>\n",
       "    </tr>\n",
       "    <tr>\n",
       "      <th>2</th>\n",
       "      <td>3</td>\n",
       "      <td>Grumpier Old Men</td>\n",
       "      <td>Comedy|Romance</td>\n",
       "      <td>1995.0</td>\n",
       "    </tr>\n",
       "    <tr>\n",
       "      <th>3</th>\n",
       "      <td>4</td>\n",
       "      <td>Waiting to Exhale</td>\n",
       "      <td>Comedy|Drama|Romance</td>\n",
       "      <td>1995.0</td>\n",
       "    </tr>\n",
       "    <tr>\n",
       "      <th>4</th>\n",
       "      <td>5</td>\n",
       "      <td>Father of the Bride Part II</td>\n",
       "      <td>Comedy</td>\n",
       "      <td>1995.0</td>\n",
       "    </tr>\n",
       "  </tbody>\n",
       "</table>\n",
       "</div>"
      ],
      "text/plain": [
       "   movieId                         title  \\\n",
       "0        1                    Toy Story    \n",
       "1        2                      Jumanji    \n",
       "2        3             Grumpier Old Men    \n",
       "3        4            Waiting to Exhale    \n",
       "4        5  Father of the Bride Part II    \n",
       "\n",
       "                                        genres    year  \n",
       "0  Adventure|Animation|Children|Comedy|Fantasy  1995.0  \n",
       "1                   Adventure|Children|Fantasy  1995.0  \n",
       "2                               Comedy|Romance  1995.0  \n",
       "3                         Comedy|Drama|Romance  1995.0  \n",
       "4                                       Comedy  1995.0  "
      ]
     },
     "execution_count": 7,
     "metadata": {},
     "output_type": "execute_result"
    }
   ],
   "source": [
    "df_movielen_movie.head()"
   ]
  },
  {
   "cell_type": "markdown",
   "metadata": {},
   "source": [
    "# Xử lý trường genres"
   ]
  },
  {
   "cell_type": "code",
   "execution_count": 8,
   "metadata": {},
   "outputs": [
    {
     "name": "stdout",
     "output_type": "stream",
     "text": [
      "Số bản ghi mà trường genres bị rỗng: 62011\n"
     ]
    }
   ],
   "source": [
    "# Chuyển string thành list\n",
    "df_movielen_movie[\"genres\"]=[i.split(\"|\") for i in df_movielen_movie[\"genres\"]]\n",
    "for i in df_movielen_movie[\"genres\"]:\n",
    "    if len(i)==0:\n",
    "        count+=1\n",
    "print(\"Số bản ghi mà trường genres bị rỗng: \"+str(count))"
   ]
  },
  {
   "cell_type": "code",
   "execution_count": 9,
   "metadata": {},
   "outputs": [
    {
     "data": {
      "text/plain": [
       "['Thriller',\n",
       " 'Documentary',\n",
       " 'Adventure',\n",
       " '(no genres listed)',\n",
       " 'War',\n",
       " 'Romance',\n",
       " 'IMAX',\n",
       " 'Western',\n",
       " 'Drama',\n",
       " 'Animation',\n",
       " 'Crime',\n",
       " 'Mystery',\n",
       " 'Musical',\n",
       " 'Sci-Fi',\n",
       " 'Fantasy',\n",
       " 'Film-Noir',\n",
       " 'Children',\n",
       " 'Horror',\n",
       " 'Comedy',\n",
       " 'Action']"
      ]
     },
     "execution_count": 9,
     "metadata": {},
     "output_type": "execute_result"
    }
   ],
   "source": [
    "# Lấy danh sách các thể loại có trong MovieLen\n",
    "movielen_genres_list = []\n",
    "for i in df_movielen_movie[\"genres\"]:\n",
    "    movielen_genres_list+=i\n",
    "movielen_genres_list = list(set(movielen_genres_list))\n",
    "movielen_genres_list"
   ]
  },
  {
   "cell_type": "markdown",
   "metadata": {},
   "source": [
    "Ta nhận thấy trong thể loại của MovieLen có giá trị '(no genres listed)', ta tiến hành kiểm tra giá trị đó xem nó xuất hiện trong các bản ghi như thế nào"
   ]
  },
  {
   "cell_type": "code",
   "execution_count": 10,
   "metadata": {},
   "outputs": [
    {
     "name": "stdout",
     "output_type": "stream",
     "text": [
      "Các trường hợp ngoại lệ\n",
      "Số bản ghi có giá trị (no genres listed) là: 5062\n"
     ]
    }
   ],
   "source": [
    "count=0\n",
    "print(\"Các trường hợp ngoại lệ\")\n",
    "for idx, i in enumerate(df_movielen_movie[\"genres\"]):\n",
    "    if '(no genres listed)' in i:\n",
    "        count+=1\n",
    "        if len(i)>1:\n",
    "            print(i)\n",
    "print(\"Số bản ghi có giá trị (no genres listed) là: \"+str(count))"
   ]
  },
  {
   "cell_type": "markdown",
   "metadata": {},
   "source": [
    "Có thể thấy rằng những bộ phim bị gắn thể loại (no genres listed) là chưa rõ về thể loại, và không có trường hợp ngoại lệ ((no genres listed) đi cùng với 1 hay nhiều thể loại khác) => ta có thể thay giá trị này thành null"
   ]
  },
  {
   "cell_type": "code",
   "execution_count": 11,
   "metadata": {},
   "outputs": [],
   "source": [
    "# Loại bỏ giá trị (no genres listed)\n",
    "remove_idx = movielen_genres_list.index(\"(no genres listed)\")\n",
    "del movielen_genres_list[remove_idx]"
   ]
  },
  {
   "cell_type": "code",
   "execution_count": 145,
   "metadata": {},
   "outputs": [
    {
     "data": {
      "text/plain": [
       "['Kids & Family',\n",
       " 'Horror',\n",
       " 'Anime & Manga',\n",
       " 'Gay & Lesbian',\n",
       " 'Drama',\n",
       " 'Special Interest',\n",
       " 'Comedy',\n",
       " 'Documentary',\n",
       " 'Romance',\n",
       " 'Cult Movies',\n",
       " 'Musical & Performing Arts',\n",
       " 'Faith & Spirituality',\n",
       " 'Sports & Fitness',\n",
       " 'Art House & International',\n",
       " 'Mystery & Suspense',\n",
       " 'Western',\n",
       " 'Classics',\n",
       " 'Science Fiction & Fantasy',\n",
       " 'Animation',\n",
       " 'Action & Adventure',\n",
       " 'Television']"
      ]
     },
     "execution_count": 145,
     "metadata": {},
     "output_type": "execute_result"
    }
   ],
   "source": [
    "warehouse_genres_list = list(pd.read_csv(os.path.join(folder.field_value_dir,\"genres.csv\"))[\"genres\"])\n",
    "warehouse_genres_list"
   ]
  },
  {
   "cell_type": "markdown",
   "metadata": {},
   "source": [
    "Từ 2 danh sách thể loại, ta có thể mapping như dưới:\n",
    "|Data warehouse Genres|MovieLen Genres |\n",
    "| :- | :- |\n",
    "|‘Classic’||\n",
    "|‘Documentary’|‘Documentary’|\n",
    "|‘Western’|‘Western’|\n",
    "|‘Horror’|‘Horror’|\n",
    "|‘Science Fiction & Fantasy’ *|‘Sci-Fi’, ‘Fantasy’|\n",
    "|‘Gay & Lesbian’||\n",
    "|‘Drama’|‘Drama’|\n",
    "|‘Comedy’|‘Comedy’|\n",
    "|‘Cult Movies’||\n",
    "|‘Romance’|‘Romance’|\n",
    "|‘Television’||\n",
    "|‘Sport & Fitness’||\n",
    "|‘Art House & International’||\n",
    "|‘Special Interest’||\n",
    "|‘Animation’|‘Animation’|\n",
    "|‘Musical & Performing Arts’ *|‘Musical’|\n",
    "|‘Faith & Spirituality’||\n",
    "|‘Mystery & Suspense’ *|‘Mystery’|\n",
    "|‘Anime & Manga’||\n",
    "|‘Action & Adventure’ *|‘Action’, ‘Adventure’|\n",
    "|‘Kids & Family’ *|‘Children’|\n",
    "\n",
    "Những giá trị được đánh * là những giá trị cần phải chuyển đổi\n",
    "\n",
    "Những giá trị như War, Crime, Thrill, Film-Noir, IMAX ta sẽ thêm vào Data Warehouse"
   ]
  },
  {
   "cell_type": "code",
   "execution_count": 12,
   "metadata": {},
   "outputs": [],
   "source": [
    "replace_genres_dict = {'Sci-Fi': 'Science Fiction & Fantasy', 'Fantasy': 'Science Fiction & Fantasy',\n",
    "                       'Musical': 'Musical & Performing Arts', 'Mystery': 'Mystery & Suspense', \n",
    "                       'Action': 'Action & Adventure', 'Adventure': 'Action & Adventure', 'Children': 'Kids & Family', }\n",
    "def preprocess_genres(list_genres):\n",
    "    if '(no genres listed)' in list_genres:\n",
    "        return None\n",
    "    else:\n",
    "        new_list_genres = \"\"\n",
    "        for idx, i in enumerate(list_genres):\n",
    "            if i in replace_genres_dict:\n",
    "                new_list_genres+=replace_genres_dict[i]\n",
    "            else:\n",
    "                new_list_genres+=i\n",
    "            if idx != len(list_genres)-1:\n",
    "                new_list_genres+=\", \"\n",
    "        return new_list_genres\n",
    "df_movielen_movie[\"genres\"] = [preprocess_genres(i) for i in df_movielen_movie[\"genres\"]]"
   ]
  },
  {
   "cell_type": "code",
   "execution_count": 147,
   "metadata": {},
   "outputs": [],
   "source": [
    "# Thêm các giá trị mới vào trong genres warehouse\n",
    "warehouse_genres_list+=[\"War\", \"Crime\", \"Thrill\", \"Film-Noir\", \"IMAX\"]\n",
    "warehouse_genres_list = list(set(warehouse_genres_list))\n",
    "pd.DataFrame(warehouse_genres_list, columns=[\"genres\"]).to_csv(\n",
    "    os.path.join(folder.field_value_dir,\"genres.csv\"),\n",
    "    index=False \n",
    ")"
   ]
  },
  {
   "cell_type": "markdown",
   "metadata": {},
   "source": [
    "# Tạo thêm trường avg_rating và rating_count"
   ]
  },
  {
   "cell_type": "markdown",
   "metadata": {},
   "source": [
    "Ta tổng hợp lại rating bằng cách tính avgrating và ratecount trong bảng df_movielen_rating "
   ]
  },
  {
   "cell_type": "code",
   "execution_count": 13,
   "metadata": {},
   "outputs": [
    {
     "data": {
      "text/html": [
       "<div>\n",
       "<style scoped>\n",
       "    .dataframe tbody tr th:only-of-type {\n",
       "        vertical-align: middle;\n",
       "    }\n",
       "\n",
       "    .dataframe tbody tr th {\n",
       "        vertical-align: top;\n",
       "    }\n",
       "\n",
       "    .dataframe thead th {\n",
       "        text-align: right;\n",
       "    }\n",
       "</style>\n",
       "<table border=\"1\" class=\"dataframe\">\n",
       "  <thead>\n",
       "    <tr style=\"text-align: right;\">\n",
       "      <th></th>\n",
       "      <th>movieId</th>\n",
       "      <th>avgrating</th>\n",
       "      <th>ratecount</th>\n",
       "    </tr>\n",
       "  </thead>\n",
       "  <tbody>\n",
       "    <tr>\n",
       "      <th>0</th>\n",
       "      <td>1</td>\n",
       "      <td>3.893708</td>\n",
       "      <td>57309</td>\n",
       "    </tr>\n",
       "    <tr>\n",
       "      <th>1</th>\n",
       "      <td>2</td>\n",
       "      <td>3.251527</td>\n",
       "      <td>24228</td>\n",
       "    </tr>\n",
       "    <tr>\n",
       "      <th>2</th>\n",
       "      <td>3</td>\n",
       "      <td>3.142028</td>\n",
       "      <td>11804</td>\n",
       "    </tr>\n",
       "    <tr>\n",
       "      <th>3</th>\n",
       "      <td>4</td>\n",
       "      <td>2.853547</td>\n",
       "      <td>2523</td>\n",
       "    </tr>\n",
       "    <tr>\n",
       "      <th>4</th>\n",
       "      <td>5</td>\n",
       "      <td>3.058434</td>\n",
       "      <td>11714</td>\n",
       "    </tr>\n",
       "  </tbody>\n",
       "</table>\n",
       "</div>"
      ],
      "text/plain": [
       "   movieId  avgrating  ratecount\n",
       "0        1   3.893708      57309\n",
       "1        2   3.251527      24228\n",
       "2        3   3.142028      11804\n",
       "3        4   2.853547       2523\n",
       "4        5   3.058434      11714"
      ]
     },
     "execution_count": 13,
     "metadata": {},
     "output_type": "execute_result"
    }
   ],
   "source": [
    "df_movielen_statistic = pd.DataFrame()\n",
    "df_movielen_statistic[\"movieId\"] = df_movielen_rating.groupby(\"movieId\")[\"rating\"].mean().keys()\n",
    "df_movielen_statistic[\"avgrating\"] = df_movielen_rating.groupby(\"movieId\")[\"rating\"].mean().values\n",
    "df_movielen_statistic[\"ratecount\"] = df_movielen_rating.groupby(\"movieId\")[\"rating\"].count().values\n",
    "df_movielen_statistic.head()"
   ]
  },
  {
   "cell_type": "code",
   "execution_count": 14,
   "metadata": {},
   "outputs": [
    {
     "data": {
      "text/html": [
       "<div>\n",
       "<style scoped>\n",
       "    .dataframe tbody tr th:only-of-type {\n",
       "        vertical-align: middle;\n",
       "    }\n",
       "\n",
       "    .dataframe tbody tr th {\n",
       "        vertical-align: top;\n",
       "    }\n",
       "\n",
       "    .dataframe thead th {\n",
       "        text-align: right;\n",
       "    }\n",
       "</style>\n",
       "<table border=\"1\" class=\"dataframe\">\n",
       "  <thead>\n",
       "    <tr style=\"text-align: right;\">\n",
       "      <th></th>\n",
       "      <th>movieId</th>\n",
       "      <th>title</th>\n",
       "      <th>genres</th>\n",
       "      <th>year</th>\n",
       "      <th>movieId</th>\n",
       "      <th>avgrating</th>\n",
       "      <th>ratecount</th>\n",
       "    </tr>\n",
       "  </thead>\n",
       "  <tbody>\n",
       "    <tr>\n",
       "      <th>0</th>\n",
       "      <td>1</td>\n",
       "      <td>Toy Story</td>\n",
       "      <td>Action &amp; Adventure, Animation, Kids &amp; Family, ...</td>\n",
       "      <td>1995.0</td>\n",
       "      <td>1.0</td>\n",
       "      <td>3.893708</td>\n",
       "      <td>57309.0</td>\n",
       "    </tr>\n",
       "    <tr>\n",
       "      <th>1</th>\n",
       "      <td>2</td>\n",
       "      <td>Jumanji</td>\n",
       "      <td>Action &amp; Adventure, Kids &amp; Family, Science Fic...</td>\n",
       "      <td>1995.0</td>\n",
       "      <td>2.0</td>\n",
       "      <td>3.251527</td>\n",
       "      <td>24228.0</td>\n",
       "    </tr>\n",
       "    <tr>\n",
       "      <th>2</th>\n",
       "      <td>3</td>\n",
       "      <td>Grumpier Old Men</td>\n",
       "      <td>Comedy, Romance</td>\n",
       "      <td>1995.0</td>\n",
       "      <td>3.0</td>\n",
       "      <td>3.142028</td>\n",
       "      <td>11804.0</td>\n",
       "    </tr>\n",
       "    <tr>\n",
       "      <th>3</th>\n",
       "      <td>4</td>\n",
       "      <td>Waiting to Exhale</td>\n",
       "      <td>Comedy, Drama, Romance</td>\n",
       "      <td>1995.0</td>\n",
       "      <td>4.0</td>\n",
       "      <td>2.853547</td>\n",
       "      <td>2523.0</td>\n",
       "    </tr>\n",
       "    <tr>\n",
       "      <th>4</th>\n",
       "      <td>5</td>\n",
       "      <td>Father of the Bride Part II</td>\n",
       "      <td>Comedy</td>\n",
       "      <td>1995.0</td>\n",
       "      <td>5.0</td>\n",
       "      <td>3.058434</td>\n",
       "      <td>11714.0</td>\n",
       "    </tr>\n",
       "    <tr>\n",
       "      <th>...</th>\n",
       "      <td>...</td>\n",
       "      <td>...</td>\n",
       "      <td>...</td>\n",
       "      <td>...</td>\n",
       "      <td>...</td>\n",
       "      <td>...</td>\n",
       "      <td>...</td>\n",
       "    </tr>\n",
       "    <tr>\n",
       "      <th>62418</th>\n",
       "      <td>209157</td>\n",
       "      <td>We</td>\n",
       "      <td>Drama</td>\n",
       "      <td>2018.0</td>\n",
       "      <td>NaN</td>\n",
       "      <td>NaN</td>\n",
       "      <td>NaN</td>\n",
       "    </tr>\n",
       "    <tr>\n",
       "      <th>62419</th>\n",
       "      <td>209159</td>\n",
       "      <td>Window of the Soul</td>\n",
       "      <td>Documentary</td>\n",
       "      <td>2001.0</td>\n",
       "      <td>NaN</td>\n",
       "      <td>NaN</td>\n",
       "      <td>NaN</td>\n",
       "    </tr>\n",
       "    <tr>\n",
       "      <th>62420</th>\n",
       "      <td>209163</td>\n",
       "      <td>Bad Poems</td>\n",
       "      <td>Comedy, Drama</td>\n",
       "      <td>2018.0</td>\n",
       "      <td>NaN</td>\n",
       "      <td>NaN</td>\n",
       "      <td>NaN</td>\n",
       "    </tr>\n",
       "    <tr>\n",
       "      <th>62421</th>\n",
       "      <td>209169</td>\n",
       "      <td>A Girl Thing</td>\n",
       "      <td>None</td>\n",
       "      <td>2001.0</td>\n",
       "      <td>NaN</td>\n",
       "      <td>NaN</td>\n",
       "      <td>NaN</td>\n",
       "    </tr>\n",
       "    <tr>\n",
       "      <th>62422</th>\n",
       "      <td>209171</td>\n",
       "      <td>Women of Devil's Island</td>\n",
       "      <td>Action &amp; Adventure, Action &amp; Adventure, Drama</td>\n",
       "      <td>1962.0</td>\n",
       "      <td>NaN</td>\n",
       "      <td>NaN</td>\n",
       "      <td>NaN</td>\n",
       "    </tr>\n",
       "  </tbody>\n",
       "</table>\n",
       "<p>62423 rows × 7 columns</p>\n",
       "</div>"
      ],
      "text/plain": [
       "       movieId                         title  \\\n",
       "0            1                    Toy Story    \n",
       "1            2                      Jumanji    \n",
       "2            3             Grumpier Old Men    \n",
       "3            4            Waiting to Exhale    \n",
       "4            5  Father of the Bride Part II    \n",
       "...        ...                           ...   \n",
       "62418   209157                           We    \n",
       "62419   209159           Window of the Soul    \n",
       "62420   209163                    Bad Poems    \n",
       "62421   209169                 A Girl Thing    \n",
       "62422   209171      Women of Devil's Island    \n",
       "\n",
       "                                                  genres    year  movieId  \\\n",
       "0      Action & Adventure, Animation, Kids & Family, ...  1995.0      1.0   \n",
       "1      Action & Adventure, Kids & Family, Science Fic...  1995.0      2.0   \n",
       "2                                        Comedy, Romance  1995.0      3.0   \n",
       "3                                 Comedy, Drama, Romance  1995.0      4.0   \n",
       "4                                                 Comedy  1995.0      5.0   \n",
       "...                                                  ...     ...      ...   \n",
       "62418                                              Drama  2018.0      NaN   \n",
       "62419                                        Documentary  2001.0      NaN   \n",
       "62420                                      Comedy, Drama  2018.0      NaN   \n",
       "62421                                               None  2001.0      NaN   \n",
       "62422      Action & Adventure, Action & Adventure, Drama  1962.0      NaN   \n",
       "\n",
       "       avgrating  ratecount  \n",
       "0       3.893708    57309.0  \n",
       "1       3.251527    24228.0  \n",
       "2       3.142028    11804.0  \n",
       "3       2.853547     2523.0  \n",
       "4       3.058434    11714.0  \n",
       "...          ...        ...  \n",
       "62418        NaN        NaN  \n",
       "62419        NaN        NaN  \n",
       "62420        NaN        NaN  \n",
       "62421        NaN        NaN  \n",
       "62422        NaN        NaN  \n",
       "\n",
       "[62423 rows x 7 columns]"
      ]
     },
     "execution_count": 14,
     "metadata": {},
     "output_type": "execute_result"
    }
   ],
   "source": [
    "df_movielen_final = pd.concat([df_movielen_movie, df_movielen_statistic], axis=1)\n",
    "df_movielen_final"
   ]
  },
  {
   "cell_type": "markdown",
   "metadata": {},
   "source": [
    "Ta thấy có 2 cột movieId đang bị lặp, ta sẽ chỉ giữ lại 1 cột là cột không chứa giá trị null nào"
   ]
  },
  {
   "cell_type": "code",
   "execution_count": 15,
   "metadata": {},
   "outputs": [
    {
     "data": {
      "text/html": [
       "<div>\n",
       "<style scoped>\n",
       "    .dataframe tbody tr th:only-of-type {\n",
       "        vertical-align: middle;\n",
       "    }\n",
       "\n",
       "    .dataframe tbody tr th {\n",
       "        vertical-align: top;\n",
       "    }\n",
       "\n",
       "    .dataframe thead th {\n",
       "        text-align: right;\n",
       "    }\n",
       "</style>\n",
       "<table border=\"1\" class=\"dataframe\">\n",
       "  <thead>\n",
       "    <tr style=\"text-align: right;\">\n",
       "      <th></th>\n",
       "      <th>movieId</th>\n",
       "      <th>title</th>\n",
       "      <th>genres</th>\n",
       "      <th>year</th>\n",
       "      <th>movieId.1</th>\n",
       "      <th>avgrating</th>\n",
       "      <th>ratecount</th>\n",
       "    </tr>\n",
       "  </thead>\n",
       "  <tbody>\n",
       "    <tr>\n",
       "      <th>0</th>\n",
       "      <td>1</td>\n",
       "      <td>Toy Story</td>\n",
       "      <td>Action &amp; Adventure, Animation, Kids &amp; Family, ...</td>\n",
       "      <td>1995.0</td>\n",
       "      <td>1.0</td>\n",
       "      <td>3.893708</td>\n",
       "      <td>57309.0</td>\n",
       "    </tr>\n",
       "    <tr>\n",
       "      <th>1</th>\n",
       "      <td>2</td>\n",
       "      <td>Jumanji</td>\n",
       "      <td>Action &amp; Adventure, Kids &amp; Family, Science Fic...</td>\n",
       "      <td>1995.0</td>\n",
       "      <td>2.0</td>\n",
       "      <td>3.251527</td>\n",
       "      <td>24228.0</td>\n",
       "    </tr>\n",
       "    <tr>\n",
       "      <th>2</th>\n",
       "      <td>3</td>\n",
       "      <td>Grumpier Old Men</td>\n",
       "      <td>Comedy, Romance</td>\n",
       "      <td>1995.0</td>\n",
       "      <td>3.0</td>\n",
       "      <td>3.142028</td>\n",
       "      <td>11804.0</td>\n",
       "    </tr>\n",
       "    <tr>\n",
       "      <th>3</th>\n",
       "      <td>4</td>\n",
       "      <td>Waiting to Exhale</td>\n",
       "      <td>Comedy, Drama, Romance</td>\n",
       "      <td>1995.0</td>\n",
       "      <td>4.0</td>\n",
       "      <td>2.853547</td>\n",
       "      <td>2523.0</td>\n",
       "    </tr>\n",
       "    <tr>\n",
       "      <th>4</th>\n",
       "      <td>5</td>\n",
       "      <td>Father of the Bride Part II</td>\n",
       "      <td>Comedy</td>\n",
       "      <td>1995.0</td>\n",
       "      <td>5.0</td>\n",
       "      <td>3.058434</td>\n",
       "      <td>11714.0</td>\n",
       "    </tr>\n",
       "    <tr>\n",
       "      <th>...</th>\n",
       "      <td>...</td>\n",
       "      <td>...</td>\n",
       "      <td>...</td>\n",
       "      <td>...</td>\n",
       "      <td>...</td>\n",
       "      <td>...</td>\n",
       "      <td>...</td>\n",
       "    </tr>\n",
       "    <tr>\n",
       "      <th>62418</th>\n",
       "      <td>209157</td>\n",
       "      <td>We</td>\n",
       "      <td>Drama</td>\n",
       "      <td>2018.0</td>\n",
       "      <td>NaN</td>\n",
       "      <td>NaN</td>\n",
       "      <td>NaN</td>\n",
       "    </tr>\n",
       "    <tr>\n",
       "      <th>62419</th>\n",
       "      <td>209159</td>\n",
       "      <td>Window of the Soul</td>\n",
       "      <td>Documentary</td>\n",
       "      <td>2001.0</td>\n",
       "      <td>NaN</td>\n",
       "      <td>NaN</td>\n",
       "      <td>NaN</td>\n",
       "    </tr>\n",
       "    <tr>\n",
       "      <th>62420</th>\n",
       "      <td>209163</td>\n",
       "      <td>Bad Poems</td>\n",
       "      <td>Comedy, Drama</td>\n",
       "      <td>2018.0</td>\n",
       "      <td>NaN</td>\n",
       "      <td>NaN</td>\n",
       "      <td>NaN</td>\n",
       "    </tr>\n",
       "    <tr>\n",
       "      <th>62421</th>\n",
       "      <td>209169</td>\n",
       "      <td>A Girl Thing</td>\n",
       "      <td>None</td>\n",
       "      <td>2001.0</td>\n",
       "      <td>NaN</td>\n",
       "      <td>NaN</td>\n",
       "      <td>NaN</td>\n",
       "    </tr>\n",
       "    <tr>\n",
       "      <th>62422</th>\n",
       "      <td>209171</td>\n",
       "      <td>Women of Devil's Island</td>\n",
       "      <td>Action &amp; Adventure, Action &amp; Adventure, Drama</td>\n",
       "      <td>1962.0</td>\n",
       "      <td>NaN</td>\n",
       "      <td>NaN</td>\n",
       "      <td>NaN</td>\n",
       "    </tr>\n",
       "  </tbody>\n",
       "</table>\n",
       "<p>62423 rows × 7 columns</p>\n",
       "</div>"
      ],
      "text/plain": [
       "       movieId                         title  \\\n",
       "0            1                    Toy Story    \n",
       "1            2                      Jumanji    \n",
       "2            3             Grumpier Old Men    \n",
       "3            4            Waiting to Exhale    \n",
       "4            5  Father of the Bride Part II    \n",
       "...        ...                           ...   \n",
       "62418   209157                           We    \n",
       "62419   209159           Window of the Soul    \n",
       "62420   209163                    Bad Poems    \n",
       "62421   209169                 A Girl Thing    \n",
       "62422   209171      Women of Devil's Island    \n",
       "\n",
       "                                                  genres    year  movieId.1  \\\n",
       "0      Action & Adventure, Animation, Kids & Family, ...  1995.0        1.0   \n",
       "1      Action & Adventure, Kids & Family, Science Fic...  1995.0        2.0   \n",
       "2                                        Comedy, Romance  1995.0        3.0   \n",
       "3                                 Comedy, Drama, Romance  1995.0        4.0   \n",
       "4                                                 Comedy  1995.0        5.0   \n",
       "...                                                  ...     ...        ...   \n",
       "62418                                              Drama  2018.0        NaN   \n",
       "62419                                        Documentary  2001.0        NaN   \n",
       "62420                                      Comedy, Drama  2018.0        NaN   \n",
       "62421                                               None  2001.0        NaN   \n",
       "62422      Action & Adventure, Action & Adventure, Drama  1962.0        NaN   \n",
       "\n",
       "       avgrating  ratecount  \n",
       "0       3.893708    57309.0  \n",
       "1       3.251527    24228.0  \n",
       "2       3.142028    11804.0  \n",
       "3       2.853547     2523.0  \n",
       "4       3.058434    11714.0  \n",
       "...          ...        ...  \n",
       "62418        NaN        NaN  \n",
       "62419        NaN        NaN  \n",
       "62420        NaN        NaN  \n",
       "62421        NaN        NaN  \n",
       "62422        NaN        NaN  \n",
       "\n",
       "[62423 rows x 7 columns]"
      ]
     },
     "execution_count": 15,
     "metadata": {},
     "output_type": "execute_result"
    }
   ],
   "source": [
    "cols=pd.Series(df_movielen_final.columns)\n",
    "for dup in df_movielen_final.columns[df_movielen_final.columns.duplicated(keep=False)]: \n",
    "    cols[df_movielen_final.columns.get_loc(dup)] = ([dup + '.' + str(d_idx) \n",
    "                                     if d_idx != 0 \n",
    "                                     else dup \n",
    "                                     for d_idx in range(df_movielen_final.columns.get_loc(dup).sum())]\n",
    "                                    )\n",
    "df_movielen_final.columns=cols\n",
    "df_movielen_final"
   ]
  },
  {
   "cell_type": "code",
   "execution_count": 16,
   "metadata": {},
   "outputs": [],
   "source": [
    "df_movielen_final.drop(columns=['movieId.1'], inplace=True)"
   ]
  },
  {
   "cell_type": "markdown",
   "metadata": {},
   "source": [
    "# Chuyển đổi timestamp về datetime"
   ]
  },
  {
   "cell_type": "code",
   "execution_count": 18,
   "metadata": {},
   "outputs": [],
   "source": [
    "df_movielen_rating[\"timestamp\"] = [str(datetime.fromtimestamp(i)) for i in df_movielen_rating[\"timestamp\"]]"
   ]
  },
  {
   "cell_type": "markdown",
   "metadata": {},
   "source": [
    "# Kiểm tra trường movieId"
   ]
  },
  {
   "cell_type": "code",
   "execution_count": 32,
   "metadata": {},
   "outputs": [],
   "source": [
    "movieId_movie = df_movielen_final['movieId'].unique()\n",
    "movieId_rating = df_movielen_rating['movieId'].unique()"
   ]
  },
  {
   "cell_type": "code",
   "execution_count": 35,
   "metadata": {},
   "outputs": [
    {
     "name": "stdout",
     "output_type": "stream",
     "text": [
      "Số trường hợp movieId có trong dữ liệu rating nhưng không có trong dữ liệu movie: 0\n"
     ]
    }
   ],
   "source": [
    "# Kiểm tra xem có movieId nào có trong dữ liệu review mà không có trong dữ liệu movie\n",
    "outsider = [i for i in movieId_rating if i not in movieId_movie]\n",
    "print(\"Số trường hợp movieId có trong dữ liệu rating nhưng không có trong dữ liệu movie: \"+str(len(outsider)))"
   ]
  },
  {
   "cell_type": "markdown",
   "metadata": {},
   "source": [
    "# Lưu dữ liệu chuyển đổi"
   ]
  },
  {
   "cell_type": "code",
   "execution_count": 19,
   "metadata": {},
   "outputs": [
    {
     "name": "stdout",
     "output_type": "stream",
     "text": [
      "Index(['movieId', 'title', 'genres', 'year', 'avgrating', 'ratecount'], dtype='object')\n",
      "Index(['userId', 'movieId', 'rating', 'timestamp'], dtype='object')\n"
     ]
    }
   ],
   "source": [
    "print(df_movielen_final.columns)\n",
    "print(df_movielen_rating.columns)"
   ]
  },
  {
   "cell_type": "code",
   "execution_count": 37,
   "metadata": {},
   "outputs": [],
   "source": [
    "df_movielen_final_movie = df_movielen_final[['movieId', 'title', 'genres', 'year']]\n",
    "df_movielen_final_rating = df_movielen_final[['movieId', 'avgrating', 'ratecount']]"
   ]
  },
  {
   "cell_type": "code",
   "execution_count": 38,
   "metadata": {},
   "outputs": [],
   "source": [
    "df_movielen_final_movie.to_csv(os.path.join(folder.movielen_preprocess_dir,\"movie.csv\"), index=False)\n",
    "df_movielen_final_rating.to_csv(os.path.join(folder.movielen_preprocess_dir,\"movielen_rating.csv\"), index=False)\n",
    "df_movielen_rating.to_csv(os.path.join(folder.movielen_preprocess_dir,\"movielen_review.csv\"), index=False)"
   ]
  }
 ],
 "metadata": {
  "interpreter": {
   "hash": "5f2e2af27bdde5936ad554feb7aa504e3a6118ea1851ab67384e2724f8720947"
  },
  "kernelspec": {
   "display_name": "Python 3.9.12 ('venv': venv)",
   "language": "python",
   "name": "python3"
  },
  "language_info": {
   "codemirror_mode": {
    "name": "ipython",
    "version": 3
   },
   "file_extension": ".py",
   "mimetype": "text/x-python",
   "name": "python",
   "nbconvert_exporter": "python",
   "pygments_lexer": "ipython3",
   "version": "3.9.12"
  },
  "orig_nbformat": 4
 },
 "nbformat": 4,
 "nbformat_minor": 2
}
