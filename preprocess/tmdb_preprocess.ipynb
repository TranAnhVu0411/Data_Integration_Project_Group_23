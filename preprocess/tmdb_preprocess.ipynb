{
 "cells": [
  {
   "cell_type": "code",
   "execution_count": 1,
   "metadata": {},
   "outputs": [],
   "source": [
    "import os\n",
    "# Chỉnh lại tên directory theo tên parent_dir trong folder_create.py\n",
    "os.chdir(\"/Users/trananhvu/Documents/Tichhopdulieu/Data_Integration_Group23/Data_Integration_Project_Group_23\")"
   ]
  },
  {
   "cell_type": "code",
   "execution_count": 2,
   "metadata": {},
   "outputs": [],
   "source": [
    "import pandas as pd\n",
    "import Levenshtein as levenshtein\n",
    "import json\n",
    "import string\n",
    "import ast\n",
    "import folder_create as folder"
   ]
  },
  {
   "cell_type": "code",
   "execution_count": 3,
   "metadata": {},
   "outputs": [
    {
     "data": {
      "text/html": [
       "<div>\n",
       "<style scoped>\n",
       "    .dataframe tbody tr th:only-of-type {\n",
       "        vertical-align: middle;\n",
       "    }\n",
       "\n",
       "    .dataframe tbody tr th {\n",
       "        vertical-align: top;\n",
       "    }\n",
       "\n",
       "    .dataframe thead th {\n",
       "        text-align: right;\n",
       "    }\n",
       "</style>\n",
       "<table border=\"1\" class=\"dataframe\">\n",
       "  <thead>\n",
       "    <tr style=\"text-align: right;\">\n",
       "      <th></th>\n",
       "      <th>Unnamed: 0</th>\n",
       "      <th>id</th>\n",
       "      <th>title</th>\n",
       "      <th>overview</th>\n",
       "      <th>popularity</th>\n",
       "      <th>vote_average</th>\n",
       "      <th>vote_count</th>\n",
       "      <th>release_date</th>\n",
       "      <th>keywords</th>\n",
       "      <th>genres</th>\n",
       "      <th>cast</th>\n",
       "      <th>crew</th>\n",
       "    </tr>\n",
       "  </thead>\n",
       "  <tbody>\n",
       "    <tr>\n",
       "      <th>0</th>\n",
       "      <td>0</td>\n",
       "      <td>19404</td>\n",
       "      <td>Dilwale Dulhania Le Jayenge</td>\n",
       "      <td>Raj is a rich, carefree, happy-go-lucky second...</td>\n",
       "      <td>31.222</td>\n",
       "      <td>8.7</td>\n",
       "      <td>3323</td>\n",
       "      <td>1995-10-20</td>\n",
       "      <td>[]</td>\n",
       "      <td>['Comedy', 'Drama', 'Romance']</td>\n",
       "      <td>['Shah Rukh Khan', 'Kajol', 'Amrish Puri', 'An...</td>\n",
       "      <td>['Aditya Chopra']</td>\n",
       "    </tr>\n",
       "    <tr>\n",
       "      <th>1</th>\n",
       "      <td>1</td>\n",
       "      <td>278</td>\n",
       "      <td>The Shawshank Redemption</td>\n",
       "      <td>Framed in the 1940s for the double murder of h...</td>\n",
       "      <td>76.654</td>\n",
       "      <td>8.7</td>\n",
       "      <td>20434</td>\n",
       "      <td>1994-09-23</td>\n",
       "      <td>['prison', 'corruption', 'police brutality', '...</td>\n",
       "      <td>['Drama', 'Crime']</td>\n",
       "      <td>['Tim Robbins', 'Morgan Freeman', 'Bob Gunton'...</td>\n",
       "      <td>['Frank Darabont']</td>\n",
       "    </tr>\n",
       "    <tr>\n",
       "      <th>2</th>\n",
       "      <td>2</td>\n",
       "      <td>238</td>\n",
       "      <td>The Godfather</td>\n",
       "      <td>Spanning the years 1945 to 1955, a chronicle o...</td>\n",
       "      <td>75.306</td>\n",
       "      <td>8.7</td>\n",
       "      <td>15270</td>\n",
       "      <td>1972-03-14</td>\n",
       "      <td>['italy', 'loss of loved one', 'love at first ...</td>\n",
       "      <td>['Drama', 'Crime']</td>\n",
       "      <td>['Marlon Brando', 'Al Pacino', 'James Caan', '...</td>\n",
       "      <td>['Francis Ford Coppola']</td>\n",
       "    </tr>\n",
       "    <tr>\n",
       "      <th>3</th>\n",
       "      <td>3</td>\n",
       "      <td>724089</td>\n",
       "      <td>Gabriel's Inferno Part II</td>\n",
       "      <td>Professor Gabriel Emerson finally learns the t...</td>\n",
       "      <td>21.501</td>\n",
       "      <td>8.6</td>\n",
       "      <td>1369</td>\n",
       "      <td>2020-07-31</td>\n",
       "      <td>['based on novel or book']</td>\n",
       "      <td>['Romance']</td>\n",
       "      <td>['Melanie Zanetti', 'Giulio Berruti', 'James A...</td>\n",
       "      <td>['Tosca Musk']</td>\n",
       "    </tr>\n",
       "    <tr>\n",
       "      <th>4</th>\n",
       "      <td>4</td>\n",
       "      <td>424</td>\n",
       "      <td>Schindler's List</td>\n",
       "      <td>The true story of how businessman Oskar Schind...</td>\n",
       "      <td>40.585</td>\n",
       "      <td>8.6</td>\n",
       "      <td>12202</td>\n",
       "      <td>1993-11-30</td>\n",
       "      <td>['based on novel or book', 'factory', 'concent...</td>\n",
       "      <td>['Drama', 'History', 'War']</td>\n",
       "      <td>['Liam Neeson', 'Ben Kingsley', 'Ralph Fiennes...</td>\n",
       "      <td>['Steven Spielberg']</td>\n",
       "    </tr>\n",
       "  </tbody>\n",
       "</table>\n",
       "</div>"
      ],
      "text/plain": [
       "   Unnamed: 0      id                        title  \\\n",
       "0           0   19404  Dilwale Dulhania Le Jayenge   \n",
       "1           1     278     The Shawshank Redemption   \n",
       "2           2     238                The Godfather   \n",
       "3           3  724089    Gabriel's Inferno Part II   \n",
       "4           4     424             Schindler's List   \n",
       "\n",
       "                                            overview  popularity  \\\n",
       "0  Raj is a rich, carefree, happy-go-lucky second...      31.222   \n",
       "1  Framed in the 1940s for the double murder of h...      76.654   \n",
       "2  Spanning the years 1945 to 1955, a chronicle o...      75.306   \n",
       "3  Professor Gabriel Emerson finally learns the t...      21.501   \n",
       "4  The true story of how businessman Oskar Schind...      40.585   \n",
       "\n",
       "   vote_average  vote_count release_date  \\\n",
       "0           8.7        3323   1995-10-20   \n",
       "1           8.7       20434   1994-09-23   \n",
       "2           8.7       15270   1972-03-14   \n",
       "3           8.6        1369   2020-07-31   \n",
       "4           8.6       12202   1993-11-30   \n",
       "\n",
       "                                            keywords  \\\n",
       "0                                                 []   \n",
       "1  ['prison', 'corruption', 'police brutality', '...   \n",
       "2  ['italy', 'loss of loved one', 'love at first ...   \n",
       "3                         ['based on novel or book']   \n",
       "4  ['based on novel or book', 'factory', 'concent...   \n",
       "\n",
       "                           genres  \\\n",
       "0  ['Comedy', 'Drama', 'Romance']   \n",
       "1              ['Drama', 'Crime']   \n",
       "2              ['Drama', 'Crime']   \n",
       "3                     ['Romance']   \n",
       "4     ['Drama', 'History', 'War']   \n",
       "\n",
       "                                                cast                      crew  \n",
       "0  ['Shah Rukh Khan', 'Kajol', 'Amrish Puri', 'An...         ['Aditya Chopra']  \n",
       "1  ['Tim Robbins', 'Morgan Freeman', 'Bob Gunton'...        ['Frank Darabont']  \n",
       "2  ['Marlon Brando', 'Al Pacino', 'James Caan', '...  ['Francis Ford Coppola']  \n",
       "3  ['Melanie Zanetti', 'Giulio Berruti', 'James A...            ['Tosca Musk']  \n",
       "4  ['Liam Neeson', 'Ben Kingsley', 'Ralph Fiennes...      ['Steven Spielberg']  "
      ]
     },
     "execution_count": 3,
     "metadata": {},
     "output_type": "execute_result"
    }
   ],
   "source": [
    "# Movie Info\n",
    "df_tmdb_movie = pd.read_csv(os.path.join(folder.tmdb_dir,\"tmdb.csv\"))\n",
    "df_tmdb_movie.head()"
   ]
  },
  {
   "cell_type": "code",
   "execution_count": 4,
   "metadata": {},
   "outputs": [
    {
     "name": "stdout",
     "output_type": "stream",
     "text": [
      "<class 'pandas.core.frame.DataFrame'>\n",
      "RangeIndex: 9480 entries, 0 to 9479\n",
      "Data columns (total 12 columns):\n",
      " #   Column        Non-Null Count  Dtype  \n",
      "---  ------        --------------  -----  \n",
      " 0   Unnamed: 0    9480 non-null   int64  \n",
      " 1   id            9480 non-null   int64  \n",
      " 2   title         9480 non-null   object \n",
      " 3   overview      9464 non-null   object \n",
      " 4   popularity    9480 non-null   float64\n",
      " 5   vote_average  9480 non-null   float64\n",
      " 6   vote_count    9480 non-null   int64  \n",
      " 7   release_date  9480 non-null   object \n",
      " 8   keywords      9480 non-null   object \n",
      " 9   genres        9480 non-null   object \n",
      " 10  cast          9480 non-null   object \n",
      " 11  crew          9480 non-null   object \n",
      "dtypes: float64(2), int64(3), object(7)\n",
      "memory usage: 888.9+ KB\n"
     ]
    }
   ],
   "source": [
    "df_tmdb_movie.info()"
   ]
  },
  {
   "cell_type": "markdown",
   "metadata": {},
   "source": [
    "Kết quả Schema Matching: (Những trường bị đánh * trong Source Schema là bị matching sai)\n",
    "\n",
    "- Bảng Movie:\n",
    "\n",
    "| Source Schema | Data warehouse Schema |\n",
    "|---------------|-----------------------|\n",
    "| Unnamed: 0*   | image                 |\n",
    "| title         | movie_title           |\n",
    "| genres        | genres                |\n",
    "| cast*         | directors             |\n",
    "| crew*         | content_rating        |\n",
    "| keyword*      | actors                |\n",
    "| vote_average* | runtime               |\n",
    "| overview      | movie_info            |\n",
    "| release_date  | release_date          |\n",
    "\n",
    "- Bảng Rating:\n",
    "\n",
    "| Source Schema | Data warehouse Schema |\n",
    "|---------------|-----------------------|\n",
    "| vote_average  | avg_rating            |\n",
    "| release_date* | rating_count          |\n",
    "| overview*     | link                  |\n",
    "\n",
    "Nhận xét và hướng xử lý của các trường:\n",
    "\n",
    "- Bảng Movie:\n",
    "    + Trường actors, directors trong data warehouse bị matching sai, trường đúng lần lượt phải là cast và crew (Lý do sai chưa rõ)\n",
    "    + Trường genres, cast, crews trong TMDB đang được viết theo dạng [item1, item2, ...], trong khi dạng của các trường đó trong data warehouse là item1, item2, ..., đồng thời các giá trị các trường trong TMDB có thể khác so với trong Data Warehouse => cần phải biến đổi lại\n",
    "    + Trường release_date trong tmdb đang được viết dưới dạng Year/Month/Day => xử lý để lấy năm\n",
    "    + Trường image, content_rating và runtime không có trong nguồn TMDB\n",
    "- Bảng Rating:\n",
    "    + Kiểm tra lại dữ liệu movie, ta nhận thấy trường rating_count trong data warehouse được thể hiện bằng trường vote_count trong TMDB\n",
    "    + Trường link không có trong nguồn TMDB"
   ]
  },
  {
   "cell_type": "markdown",
   "metadata": {},
   "source": [
    "# Xử lý trường release_date"
   ]
  },
  {
   "cell_type": "code",
   "execution_count": 15,
   "metadata": {},
   "outputs": [],
   "source": [
    "def get_year(date):\n",
    "    if type(date)!=float:\n",
    "        return float(date[:4])\n",
    "df_tmdb_movie[\"release_date\"]=[get_year(i) for i in df_tmdb_movie[\"release_date\"]]"
   ]
  },
  {
   "cell_type": "markdown",
   "metadata": {},
   "source": [
    "# Xử lý trường genres"
   ]
  },
  {
   "cell_type": "code",
   "execution_count": 9,
   "metadata": {},
   "outputs": [
    {
     "data": {
      "text/plain": [
       "['Adventure',\n",
       " 'Horror',\n",
       " 'Western',\n",
       " 'War',\n",
       " 'Drama',\n",
       " 'Family',\n",
       " 'Fantasy',\n",
       " 'Thriller',\n",
       " 'Music',\n",
       " 'Mystery',\n",
       " 'TV Movie',\n",
       " 'Romance',\n",
       " 'Comedy',\n",
       " 'History',\n",
       " 'Animation',\n",
       " 'Action',\n",
       " 'Science Fiction',\n",
       " 'Crime']"
      ]
     },
     "execution_count": 9,
     "metadata": {},
     "output_type": "execute_result"
    }
   ],
   "source": [
    "# Chuyển string thành list\n",
    "def string_to_list(stri):\n",
    "    return ast.literal_eval(stri)\n",
    "\n",
    "df_tmdb_movie[\"genres\"]=[string_to_list(i) for i in df_tmdb_movie[\"genres\"]]\n",
    "\n",
    "# Lấy các giá trị riêng biệt trong trường genres\n",
    "genres_list = []\n",
    "for i in df_tmdb_movie[\"genres\"]:\n",
    "    genres_list+=i\n",
    "genres_list = list(set(genres_list))\n",
    "genres_list"
   ]
  },
  {
   "cell_type": "code",
   "execution_count": 12,
   "metadata": {},
   "outputs": [
    {
     "name": "stdout",
     "output_type": "stream",
     "text": [
      "Số bản ghi trong nguồn TMDB mà trống thể loại: 2\n"
     ]
    }
   ],
   "source": [
    "count=0\n",
    "for i in df_tmdb_movie[\"genres\"]:\n",
    "    if len(i)==0:\n",
    "        count+=1\n",
    "print(\"Số bản ghi trong nguồn TMDB mà trống thể loại: \"+str(count))"
   ]
  },
  {
   "cell_type": "markdown",
   "metadata": {},
   "source": [
    "Có 2 bản ghi trong TMDB bị trống thể loại, ta sẽ chuyển về Null"
   ]
  },
  {
   "cell_type": "code",
   "execution_count": 10,
   "metadata": {},
   "outputs": [
    {
     "data": {
      "text/plain": [
       "['Gay & Lesbian',\n",
       " 'Documentary',\n",
       " 'Horror',\n",
       " 'History',\n",
       " 'Comedy',\n",
       " 'War',\n",
       " 'Crime',\n",
       " 'Western',\n",
       " 'IMAX',\n",
       " 'Faith & Spirituality',\n",
       " 'Biography',\n",
       " 'Cult Movies',\n",
       " 'Musical & Performing Arts',\n",
       " 'Thrill',\n",
       " 'Drama',\n",
       " 'Kids & Family',\n",
       " 'Romance',\n",
       " 'Special Interest',\n",
       " 'Film-Noir',\n",
       " 'Action & Adventure',\n",
       " 'Mystery & Suspense',\n",
       " 'Television',\n",
       " 'Science Fiction & Fantasy',\n",
       " 'Animation',\n",
       " 'Art House & International',\n",
       " 'Classics',\n",
       " 'Sports & Fitness',\n",
       " 'Anime & Manga']"
      ]
     },
     "execution_count": 10,
     "metadata": {},
     "output_type": "execute_result"
    }
   ],
   "source": [
    "warehouse_genres_list = list(pd.read_csv(os.path.join(folder.field_value_dir,\"genres.csv\"))[\"genres\"])\n",
    "warehouse_genres_list"
   ]
  },
  {
   "cell_type": "markdown",
   "metadata": {},
   "source": [
    "Từ 2 danh sách thể loại, ta có thể mapping như dưới:\n",
    "|Data warehouse Genres|TMDB Genres |\n",
    "| :- | :- |\n",
    "|‘Classic’||\n",
    "|‘Documentary’||\n",
    "|‘Western’|‘Western’|\n",
    "|‘Horror’|‘Horror’|\n",
    "|‘Science Fiction & Fantasy’\\*|‘Fantasy’, ‘Science Fiction’|\n",
    "|‘Gay & Lesbian’||\n",
    "|‘Drama’|‘Drama’|\n",
    "|‘Comedy’|‘Comedy’|\n",
    "|‘Cult Movies’||\n",
    "|‘Romance’|‘Romance’|\n",
    "|‘Television’||\n",
    "|‘Sport & Fitness’||\n",
    "|‘Art House & International’||\n",
    "|‘Special Interest’||\n",
    "|‘Animation’|‘Animation’|\n",
    "|‘Musical & Performing Arts’\\*|‘Music’|\n",
    "|‘Faith & Spirituality’||\n",
    "|‘Mystery & Suspense’\\*|‘Mystery’|\n",
    "|‘Anime & Manga’||\n",
    "|‘Action & Adventure’\\*|‘Adventure’, ‘Action’|\n",
    "|‘Kids & Family’\\*|‘Family’|\n",
    "|‘War’|‘War’|\n",
    "|‘Crime’|‘Crime’|\n",
    "|‘Film-Noir’||\n",
    "|‘IMAX’||\n",
    "|‘Thrill’\\*|‘Thriller’|\n",
    "|‘Biography’||\n",
    "|‘History’|‘History’|\n",
    "\n",
    "Những giá trị được đánh * là những giá trị cần phải chuyển đổi\n",
    "\n",
    "Giá trị như TV Movie ta sẽ thêm vào Data Warehouse"
   ]
  },
  {
   "cell_type": "code",
   "execution_count": 13,
   "metadata": {},
   "outputs": [],
   "source": [
    "replace_genres_dict = {'Mystery' : 'Mystery & Suspense', 'Thriller': 'Thrill',\n",
    "                       'Fantasy': 'Science Fiction & Fantasy', 'Science Fiction': 'Science Fiction & Fantasy',\n",
    "                       'Adventure': 'Action & Adventure','Action': 'Action & Adventure',\n",
    "                       'Music': 'Musical & Performing Arts',\n",
    "                       'Family': 'Kids & Family'}\n",
    "\n",
    "def preprocess_genres(genre):\n",
    "    if len(genre)==0:\n",
    "        return None\n",
    "    else:\n",
    "        new_list_genres = \"\"\n",
    "        for idx, i in enumerate(genre):\n",
    "            if i in replace_genres_dict:\n",
    "                new_list_genres+=replace_genres_dict[i]\n",
    "            else:\n",
    "                new_list_genres+=i\n",
    "            if idx != len(genre)-1:\n",
    "                new_list_genres+=\", \"\n",
    "        return new_list_genres\n",
    "df_tmdb_movie[\"genres\"] = [preprocess_genres(i) for i in df_tmdb_movie[\"genres\"]]"
   ]
  },
  {
   "cell_type": "code",
   "execution_count": 14,
   "metadata": {},
   "outputs": [],
   "source": [
    "# Thêm các giá trị mới vào trong genres warehouse\n",
    "warehouse_genres_list+=[\"TV Movie\"]\n",
    "warehouse_genres_list = list(set(warehouse_genres_list))\n",
    "pd.DataFrame(warehouse_genres_list, columns=[\"genres\"]).to_csv(\n",
    "    os.path.join(folder.field_value_dir,\"genres.csv\"),\n",
    "    index=False \n",
    ")"
   ]
  },
  {
   "cell_type": "markdown",
   "metadata": {},
   "source": [
    "# Xử lý trường cast và crew"
   ]
  },
  {
   "cell_type": "code",
   "execution_count": 15,
   "metadata": {},
   "outputs": [],
   "source": [
    "# Chuyển string thành list\n",
    "df_tmdb_movie[\"cast\"]=[string_to_list(i) for i in df_tmdb_movie[\"cast\"]]\n",
    "df_tmdb_movie[\"crew\"]=[string_to_list(i) for i in df_tmdb_movie[\"crew\"]]"
   ]
  },
  {
   "cell_type": "code",
   "execution_count": 17,
   "metadata": {},
   "outputs": [
    {
     "name": "stdout",
     "output_type": "stream",
     "text": [
      "Số giá trị riêng biệt trong trường cast: 25212\n",
      "Số giá trị riêng biệt trong trường crew: 3868\n"
     ]
    }
   ],
   "source": [
    "# Lấy các giá trị riêng biệt trong trường cast và crew\n",
    "cast_list = []\n",
    "for i in df_tmdb_movie[\"cast\"]:\n",
    "    cast_list+=i\n",
    "cast_list = list(set(cast_list))\n",
    "\n",
    "crew_list = []\n",
    "for i in df_tmdb_movie[\"crew\"]:\n",
    "    crew_list+=i\n",
    "crew_list = list(set(crew_list))\n",
    "\n",
    "print(\"Số giá trị riêng biệt trong trường cast: \"+str(len(cast_list)))\n",
    "print(\"Số giá trị riêng biệt trong trường crew: \"+str(len(crew_list)))"
   ]
  },
  {
   "cell_type": "code",
   "execution_count": 22,
   "metadata": {},
   "outputs": [
    {
     "name": "stdout",
     "output_type": "stream",
     "text": [
      "Số giá trị của trường directors và actors riêng biệt có trong warehouse: 213394\n"
     ]
    }
   ],
   "source": [
    "warehouse_directors_actors_list = list(pd.read_csv(os.path.join(folder.field_value_dir,\"directors_actors.csv\"))[\"name\"])\n",
    "print(\"Số giá trị của trường directors và actors riêng biệt có trong warehouse: \"+ str(len(warehouse_directors_actors_list)))"
   ]
  },
  {
   "cell_type": "markdown",
   "metadata": {},
   "source": [
    "Xử lý tương tự như trường director và crew trong nguồn metacritic, ta cũng sẽ sử dụng string matching + lọc các ứng cử viên theo chữ cái đầu tiên"
   ]
  },
  {
   "cell_type": "markdown",
   "metadata": {},
   "source": [
    "## Trường cast"
   ]
  },
  {
   "cell_type": "code",
   "execution_count": 21,
   "metadata": {},
   "outputs": [],
   "source": [
    "def get_candidate(source, first_character):\n",
    "    if first_character in string.punctuation:\n",
    "        return source\n",
    "    else:\n",
    "        candidate = []\n",
    "        for i in source:\n",
    "            if type(i)==str:\n",
    "                if i[0].lower() == first_character:\n",
    "                    candidate.append(i)\n",
    "                elif i[0] in string.punctuation:\n",
    "                    candidate.append(i)\n",
    "        return candidate"
   ]
  },
  {
   "cell_type": "code",
   "execution_count": 24,
   "metadata": {},
   "outputs": [
    {
     "name": "stdout",
     "output_type": "stream",
     "text": [
      "0\n",
      "30000\n",
      "60000\n",
      "90000\n",
      "120000\n",
      "150000\n",
      "180000\n",
      "210000\n"
     ]
    }
   ],
   "source": [
    "cast_mapping = {}\n",
    "number_of_case = []\n",
    "for idx, i in enumerate(warehouse_directors_actors_list):\n",
    "    if idx % 30000 == 0:\n",
    "        print(idx)\n",
    "    candidate = get_candidate(cast_list, i[0].lower())\n",
    "    number_of_case.append(len(candidate))\n",
    "    match=[]\n",
    "    for j in candidate:\n",
    "        if levenshtein.ratio(i, j)>=0.9:\n",
    "            match.append(j)\n",
    "    cast_mapping[i]=match"
   ]
  },
  {
   "cell_type": "code",
   "execution_count": 26,
   "metadata": {},
   "outputs": [
    {
     "name": "stdout",
     "output_type": "stream",
     "text": [
      "actors (Data warehouse): Robin Givens\n",
      "cast (TMDB): ['Robin Givens']\n",
      "\n",
      "actors (Data warehouse): Philippe Caubère\n",
      "cast (TMDB): ['Philippe Caubère']\n",
      "\n",
      "actors (Data warehouse): Dean Shek\n",
      "cast (TMDB): ['Dean Shek']\n",
      "\n",
      "actors (Data warehouse): Billy Rieck\n",
      "cast (TMDB): ['Billy Rieck']\n",
      "\n",
      "actors (Data warehouse): Joleigh Fioreavanti\n",
      "cast (TMDB): ['Joleigh Fioravanti']\n",
      "\n",
      "actors (Data warehouse): Wayne Duvall\n",
      "cast (TMDB): ['Wayne Duvall']\n",
      "\n",
      "actors (Data warehouse): Miranda Edwards\n",
      "cast (TMDB): ['Miranda Edwards']\n",
      "\n",
      "actors (Data warehouse): Louise Bourgoin\n",
      "cast (TMDB): ['Louise Bourgoin']\n",
      "\n",
      "actors (Data warehouse): Jason Gould\n",
      "cast (TMDB): ['Jason Gould']\n",
      "\n",
      "actors (Data warehouse): Sari Lennick\n",
      "cast (TMDB): ['Sari Lennick']\n",
      "\n"
     ]
    }
   ],
   "source": [
    "count=0\n",
    "for key, value in cast_mapping.items():\n",
    "    if len(value)!=0:\n",
    "        count+=1\n",
    "        print(\"actors (Data warehouse): \"+key)\n",
    "        print(\"cast (TMDB): \"+str(value))\n",
    "        print()\n",
    "        if count==10:\n",
    "            break"
   ]
  },
  {
   "cell_type": "code",
   "execution_count": 36,
   "metadata": {},
   "outputs": [],
   "source": [
    "cast_mapping_dict = {}\n",
    "for key, value in cast_mapping.items():\n",
    "    if len(value)!=0:\n",
    "        for i in value:\n",
    "            cast_mapping_dict[i]=key\n",
    "# Lưu lại các giá trị cast (actor) chưa có trong warehouse \n",
    "remain_cast = [item for item in cast_list if item not in list(cast_mapping_dict.keys())]"
   ]
  },
  {
   "cell_type": "code",
   "execution_count": 37,
   "metadata": {},
   "outputs": [],
   "source": [
    "# Chuyển đổi giá trị trường cast trong tmdb về giá trị trường actors trong data warehouse\n",
    "def preprocess_name(name, replace_name_dict):\n",
    "    if len(name)==0:\n",
    "        return None\n",
    "    else:\n",
    "        new_list_name = \"\"\n",
    "        for idx, i in enumerate(name):\n",
    "            if i in replace_name_dict:\n",
    "                new_list_name+=replace_name_dict[i]\n",
    "            else:\n",
    "                new_list_name+=i\n",
    "            if idx != len(name)-1:\n",
    "                new_list_name+=\", \"\n",
    "        return new_list_name\n",
    "df_tmdb_movie[\"cast\"] = [preprocess_name(i, cast_mapping_dict) for i in df_tmdb_movie[\"cast\"]]"
   ]
  },
  {
   "cell_type": "markdown",
   "metadata": {},
   "source": [
    "## Trường crew"
   ]
  },
  {
   "cell_type": "code",
   "execution_count": 30,
   "metadata": {},
   "outputs": [
    {
     "name": "stdout",
     "output_type": "stream",
     "text": [
      "0\n",
      "30000\n",
      "60000\n",
      "90000\n",
      "120000\n",
      "150000\n",
      "180000\n",
      "210000\n"
     ]
    }
   ],
   "source": [
    "crew_mapping = {}\n",
    "number_of_case = []\n",
    "for idx, i in enumerate(warehouse_directors_actors_list):\n",
    "    if idx % 30000 == 0:\n",
    "        print(idx)\n",
    "    candidate = get_candidate(crew_list, i[0].lower())\n",
    "    number_of_case.append(len(candidate))\n",
    "    match=[]\n",
    "    for j in candidate:\n",
    "        if levenshtein.ratio(i, j)>=0.9:\n",
    "            match.append(j)\n",
    "    crew_mapping[i]=match"
   ]
  },
  {
   "cell_type": "code",
   "execution_count": 35,
   "metadata": {},
   "outputs": [
    {
     "name": "stdout",
     "output_type": "stream",
     "text": [
      "directors (Data warehouse): Catalina Aguilar Mastretta\n",
      "crew (TMDB): ['Catalina Aguilar Mastretta']\n",
      "\n",
      "directors (Data warehouse): Roberto Rossellini\n",
      "crew (TMDB): ['Roberto Rossellini']\n",
      "\n",
      "directors (Data warehouse): Yves Robert\n",
      "crew (TMDB): ['Yves Robert']\n",
      "\n",
      "directors (Data warehouse): Nick Ormerod\n",
      "crew (TMDB): ['Nick Ormerod']\n",
      "\n",
      "directors (Data warehouse): John Maclean\n",
      "crew (TMDB): ['John Maclean']\n",
      "\n",
      "directors (Data warehouse): Jalil Lespert\n",
      "crew (TMDB): ['Jalil Lespert']\n",
      "\n",
      "directors (Data warehouse): Andrew Dominik\n",
      "crew (TMDB): ['Andrew Dominik']\n",
      "\n",
      "directors (Data warehouse): Kevin Williamson\n",
      "crew (TMDB): ['Kevin Williamson']\n",
      "\n",
      "directors (Data warehouse): Kirsten Sheridan\n",
      "crew (TMDB): ['Kirsten Sheridan']\n",
      "\n",
      "directors (Data warehouse): Fritz Kiersch\n",
      "crew (TMDB): ['Fritz Kiersch']\n",
      "\n"
     ]
    }
   ],
   "source": [
    "count=0\n",
    "for key, value in crew_mapping.items():\n",
    "    if len(value)!=0:\n",
    "        count+=1\n",
    "        print(\"directors (Data warehouse): \"+key)\n",
    "        print(\"crew (TMDB): \"+str(value))\n",
    "        print()\n",
    "        if count==10:\n",
    "            break"
   ]
  },
  {
   "cell_type": "code",
   "execution_count": 38,
   "metadata": {},
   "outputs": [],
   "source": [
    "crew_mapping_dict = {}\n",
    "for key, value in crew_mapping.items():\n",
    "    if len(value)!=0:\n",
    "        for i in value:\n",
    "            crew_mapping_dict[i]=key\n",
    "# Lưu lại các giá trị crew (director) chưa có trong warehouse \n",
    "remain_crew = [item for item in crew_list if item not in list(crew_mapping_dict.keys())]"
   ]
  },
  {
   "cell_type": "code",
   "execution_count": 41,
   "metadata": {},
   "outputs": [],
   "source": [
    "# Chuyển đổi giá trị trường crew trong tmdb về giá trị trường directors trong data warehouse\n",
    "df_tmdb_movie[\"crew\"] = [preprocess_name(i, crew_mapping_dict) for i in df_tmdb_movie[\"crew\"]]"
   ]
  },
  {
   "cell_type": "markdown",
   "metadata": {},
   "source": [
    "## Lưu các giá trị director (crew) và actor (cast) mới vào trong data warehouse"
   ]
  },
  {
   "cell_type": "code",
   "execution_count": 25,
   "metadata": {},
   "outputs": [],
   "source": [
    "# Lưu cast mapping và crew mapping\n",
    "with open(os.path.join(folder.tmdb_mapping_dir,'cast_mapping.json'), \"w\") as write_file:\n",
    "    json.dump(cast_mapping, write_file, indent=4)\n",
    "with open(os.path.join(folder.tmdb_mapping_dir,'crew_mapping.json'), \"w\") as write_file:\n",
    "    json.dump(crew_mapping, write_file, indent=4)"
   ]
  },
  {
   "cell_type": "code",
   "execution_count": 42,
   "metadata": {},
   "outputs": [],
   "source": [
    "warehouse_directors_actors_list+=remain_cast\n",
    "warehouse_directors_actors_list+=remain_crew\n",
    "warehouse_directors_actors_list=list(set(warehouse_directors_actors_list))\n",
    "pd.DataFrame(warehouse_directors_actors_list, columns=[\"name\"]).to_csv(\n",
    "    os.path.join(folder.field_value_dir,\"directors_actors.csv\"),\n",
    "    index=False \n",
    ")"
   ]
  },
  {
   "cell_type": "markdown",
   "metadata": {},
   "source": [
    "## Loại các trường không cần thiết và Lưu dữ liệu chuyển đổi"
   ]
  },
  {
   "cell_type": "code",
   "execution_count": 45,
   "metadata": {},
   "outputs": [],
   "source": [
    "df_tmdb_final = df_tmdb_movie[['id', 'title', 'overview', 'vote_average', 'vote_count', \n",
    "                               'release_date', 'genres', 'cast', 'crew']]"
   ]
  },
  {
   "cell_type": "code",
   "execution_count": 3,
   "metadata": {},
   "outputs": [],
   "source": [
    "df_tmdb_final_movie = df_tmdb_final[['id', 'title', 'overview', 'release_date', 'genres', 'cast', 'crew']]\n",
    "df_tmdb_final_rating = df_tmdb_final[['id', 'vote_average', 'vote_count',]]"
   ]
  },
  {
   "cell_type": "code",
   "execution_count": 4,
   "metadata": {},
   "outputs": [],
   "source": [
    "df_tmdb_final_movie.to_csv(os.path.join(folder.tmdb_preprocess_dir,\"movie.csv\"), index=False)\n",
    "df_tmdb_final_rating.to_csv(os.path.join(folder.tmdb_preprocess_dir,\"tmdb_rating.csv\"), index=False)"
   ]
  }
 ],
 "metadata": {
  "kernelspec": {
   "display_name": "Python 3.9.12 ('venv': venv)",
   "language": "python",
   "name": "python3"
  },
  "language_info": {
   "codemirror_mode": {
    "name": "ipython",
    "version": 3
   },
   "file_extension": ".py",
   "mimetype": "text/x-python",
   "name": "python",
   "nbconvert_exporter": "python",
   "pygments_lexer": "ipython3",
   "version": "3.9.12"
  },
  "orig_nbformat": 4,
  "vscode": {
   "interpreter": {
    "hash": "5f2e2af27bdde5936ad554feb7aa504e3a6118ea1851ab67384e2724f8720947"
   }
  }
 },
 "nbformat": 4,
 "nbformat_minor": 2
}
