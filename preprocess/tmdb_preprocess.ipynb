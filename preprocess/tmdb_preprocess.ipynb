{
 "cells": [
  {
   "cell_type": "code",
   "execution_count": 1,
   "metadata": {},
   "outputs": [],
   "source": [
    "import pandas as pd\n",
    "import re\n",
    "import difflib"
   ]
  },
  {
   "cell_type": "code",
   "execution_count": 164,
   "metadata": {},
   "outputs": [
    {
     "data": {
      "text/html": [
       "<div>\n",
       "<style scoped>\n",
       "    .dataframe tbody tr th:only-of-type {\n",
       "        vertical-align: middle;\n",
       "    }\n",
       "\n",
       "    .dataframe tbody tr th {\n",
       "        vertical-align: top;\n",
       "    }\n",
       "\n",
       "    .dataframe thead th {\n",
       "        text-align: right;\n",
       "    }\n",
       "</style>\n",
       "<table border=\"1\" class=\"dataframe\">\n",
       "  <thead>\n",
       "    <tr style=\"text-align: right;\">\n",
       "      <th></th>\n",
       "      <th>Unnamed: 0</th>\n",
       "      <th>id</th>\n",
       "      <th>title</th>\n",
       "      <th>overview</th>\n",
       "      <th>popularity</th>\n",
       "      <th>vote_average</th>\n",
       "      <th>vote_count</th>\n",
       "      <th>release_date</th>\n",
       "      <th>keywords</th>\n",
       "      <th>genres</th>\n",
       "      <th>cast</th>\n",
       "      <th>crew</th>\n",
       "    </tr>\n",
       "  </thead>\n",
       "  <tbody>\n",
       "    <tr>\n",
       "      <th>0</th>\n",
       "      <td>0</td>\n",
       "      <td>19404</td>\n",
       "      <td>Dilwale Dulhania Le Jayenge</td>\n",
       "      <td>Raj is a rich, carefree, happy-go-lucky second...</td>\n",
       "      <td>31.222</td>\n",
       "      <td>8.7</td>\n",
       "      <td>3323</td>\n",
       "      <td>1995-10-20</td>\n",
       "      <td>[]</td>\n",
       "      <td>['Comedy', 'Drama', 'Romance']</td>\n",
       "      <td>['Shah Rukh Khan', 'Kajol', 'Amrish Puri', 'An...</td>\n",
       "      <td>['Aditya Chopra']</td>\n",
       "    </tr>\n",
       "    <tr>\n",
       "      <th>1</th>\n",
       "      <td>1</td>\n",
       "      <td>278</td>\n",
       "      <td>The Shawshank Redemption</td>\n",
       "      <td>Framed in the 1940s for the double murder of h...</td>\n",
       "      <td>76.654</td>\n",
       "      <td>8.7</td>\n",
       "      <td>20434</td>\n",
       "      <td>1994-09-23</td>\n",
       "      <td>['prison', 'corruption', 'police brutality', '...</td>\n",
       "      <td>['Drama', 'Crime']</td>\n",
       "      <td>['Tim Robbins', 'Morgan Freeman', 'Bob Gunton'...</td>\n",
       "      <td>['Frank Darabont']</td>\n",
       "    </tr>\n",
       "    <tr>\n",
       "      <th>2</th>\n",
       "      <td>2</td>\n",
       "      <td>238</td>\n",
       "      <td>The Godfather</td>\n",
       "      <td>Spanning the years 1945 to 1955, a chronicle o...</td>\n",
       "      <td>75.306</td>\n",
       "      <td>8.7</td>\n",
       "      <td>15270</td>\n",
       "      <td>1972-03-14</td>\n",
       "      <td>['italy', 'loss of loved one', 'love at first ...</td>\n",
       "      <td>['Drama', 'Crime']</td>\n",
       "      <td>['Marlon Brando', 'Al Pacino', 'James Caan', '...</td>\n",
       "      <td>['Francis Ford Coppola']</td>\n",
       "    </tr>\n",
       "    <tr>\n",
       "      <th>3</th>\n",
       "      <td>3</td>\n",
       "      <td>724089</td>\n",
       "      <td>Gabriel's Inferno Part II</td>\n",
       "      <td>Professor Gabriel Emerson finally learns the t...</td>\n",
       "      <td>21.501</td>\n",
       "      <td>8.6</td>\n",
       "      <td>1369</td>\n",
       "      <td>2020-07-31</td>\n",
       "      <td>['based on novel or book']</td>\n",
       "      <td>['Romance']</td>\n",
       "      <td>['Melanie Zanetti', 'Giulio Berruti', 'James A...</td>\n",
       "      <td>['Tosca Musk']</td>\n",
       "    </tr>\n",
       "    <tr>\n",
       "      <th>4</th>\n",
       "      <td>4</td>\n",
       "      <td>424</td>\n",
       "      <td>Schindler's List</td>\n",
       "      <td>The true story of how businessman Oskar Schind...</td>\n",
       "      <td>40.585</td>\n",
       "      <td>8.6</td>\n",
       "      <td>12202</td>\n",
       "      <td>1993-11-30</td>\n",
       "      <td>['based on novel or book', 'factory', 'concent...</td>\n",
       "      <td>['Drama', 'History', 'War']</td>\n",
       "      <td>['Liam Neeson', 'Ben Kingsley', 'Ralph Fiennes...</td>\n",
       "      <td>['Steven Spielberg']</td>\n",
       "    </tr>\n",
       "  </tbody>\n",
       "</table>\n",
       "</div>"
      ],
      "text/plain": [
       "   Unnamed: 0      id                        title  \\\n",
       "0           0   19404  Dilwale Dulhania Le Jayenge   \n",
       "1           1     278     The Shawshank Redemption   \n",
       "2           2     238                The Godfather   \n",
       "3           3  724089    Gabriel's Inferno Part II   \n",
       "4           4     424             Schindler's List   \n",
       "\n",
       "                                            overview  popularity  \\\n",
       "0  Raj is a rich, carefree, happy-go-lucky second...      31.222   \n",
       "1  Framed in the 1940s for the double murder of h...      76.654   \n",
       "2  Spanning the years 1945 to 1955, a chronicle o...      75.306   \n",
       "3  Professor Gabriel Emerson finally learns the t...      21.501   \n",
       "4  The true story of how businessman Oskar Schind...      40.585   \n",
       "\n",
       "   vote_average  vote_count release_date  \\\n",
       "0           8.7        3323   1995-10-20   \n",
       "1           8.7       20434   1994-09-23   \n",
       "2           8.7       15270   1972-03-14   \n",
       "3           8.6        1369   2020-07-31   \n",
       "4           8.6       12202   1993-11-30   \n",
       "\n",
       "                                            keywords  \\\n",
       "0                                                 []   \n",
       "1  ['prison', 'corruption', 'police brutality', '...   \n",
       "2  ['italy', 'loss of loved one', 'love at first ...   \n",
       "3                         ['based on novel or book']   \n",
       "4  ['based on novel or book', 'factory', 'concent...   \n",
       "\n",
       "                           genres  \\\n",
       "0  ['Comedy', 'Drama', 'Romance']   \n",
       "1              ['Drama', 'Crime']   \n",
       "2              ['Drama', 'Crime']   \n",
       "3                     ['Romance']   \n",
       "4     ['Drama', 'History', 'War']   \n",
       "\n",
       "                                                cast                      crew  \n",
       "0  ['Shah Rukh Khan', 'Kajol', 'Amrish Puri', 'An...         ['Aditya Chopra']  \n",
       "1  ['Tim Robbins', 'Morgan Freeman', 'Bob Gunton'...        ['Frank Darabont']  \n",
       "2  ['Marlon Brando', 'Al Pacino', 'James Caan', '...  ['Francis Ford Coppola']  \n",
       "3  ['Melanie Zanetti', 'Giulio Berruti', 'James A...            ['Tosca Musk']  \n",
       "4  ['Liam Neeson', 'Ben Kingsley', 'Ralph Fiennes...      ['Steven Spielberg']  "
      ]
     },
     "execution_count": 164,
     "metadata": {},
     "output_type": "execute_result"
    }
   ],
   "source": [
    "# Movie Info\n",
    "df_tmdb_movie = pd.read_csv(\"H:/DataIntegation/tmdb/tmdb.csv\")\n",
    "df_tmdb_movie.head()"
   ]
  },
  {
   "cell_type": "code",
   "execution_count": null,
   "metadata": {},
   "outputs": [],
   "source": [
    "df_tmdb_movie.info()"
   ]
  },
  {
   "cell_type": "code",
   "execution_count": 148,
   "metadata": {},
   "outputs": [],
   "source": [
    "# Drop các cột Unnamed:\n",
    "df_tmdb_movie.drop('Unnamed: 0', axis = 1, inplace = True)"
   ]
  },
  {
   "cell_type": "code",
   "execution_count": 150,
   "metadata": {},
   "outputs": [],
   "source": [
    "# Drop id, popularity\n",
    "df_tmdb_movie.drop(['id', 'popularity'], axis = 1, inplace = True)"
   ]
  },
  {
   "cell_type": "code",
   "execution_count": 151,
   "metadata": {},
   "outputs": [
    {
     "data": {
      "text/html": [
       "<div>\n",
       "<style scoped>\n",
       "    .dataframe tbody tr th:only-of-type {\n",
       "        vertical-align: middle;\n",
       "    }\n",
       "\n",
       "    .dataframe tbody tr th {\n",
       "        vertical-align: top;\n",
       "    }\n",
       "\n",
       "    .dataframe thead th {\n",
       "        text-align: right;\n",
       "    }\n",
       "</style>\n",
       "<table border=\"1\" class=\"dataframe\">\n",
       "  <thead>\n",
       "    <tr style=\"text-align: right;\">\n",
       "      <th></th>\n",
       "      <th>title</th>\n",
       "      <th>overview</th>\n",
       "      <th>vote_average</th>\n",
       "      <th>vote_count</th>\n",
       "      <th>release_date</th>\n",
       "      <th>keywords</th>\n",
       "      <th>genres</th>\n",
       "      <th>cast</th>\n",
       "      <th>crew</th>\n",
       "    </tr>\n",
       "  </thead>\n",
       "  <tbody>\n",
       "    <tr>\n",
       "      <th>0</th>\n",
       "      <td>Dilwale Dulhania Le Jayenge</td>\n",
       "      <td>Raj is a rich, carefree, happy-go-lucky second...</td>\n",
       "      <td>8.7</td>\n",
       "      <td>3323</td>\n",
       "      <td>1995-10-20</td>\n",
       "      <td>[]</td>\n",
       "      <td>['Comedy', 'Drama', 'Romance']</td>\n",
       "      <td>['Shah Rukh Khan', 'Kajol', 'Amrish Puri', 'An...</td>\n",
       "      <td>['Aditya Chopra']</td>\n",
       "    </tr>\n",
       "    <tr>\n",
       "      <th>1</th>\n",
       "      <td>The Shawshank Redemption</td>\n",
       "      <td>Framed in the 1940s for the double murder of h...</td>\n",
       "      <td>8.7</td>\n",
       "      <td>20434</td>\n",
       "      <td>1994-09-23</td>\n",
       "      <td>['prison', 'corruption', 'police brutality', '...</td>\n",
       "      <td>['Drama', 'Crime']</td>\n",
       "      <td>['Tim Robbins', 'Morgan Freeman', 'Bob Gunton'...</td>\n",
       "      <td>['Frank Darabont']</td>\n",
       "    </tr>\n",
       "    <tr>\n",
       "      <th>2</th>\n",
       "      <td>The Godfather</td>\n",
       "      <td>Spanning the years 1945 to 1955, a chronicle o...</td>\n",
       "      <td>8.7</td>\n",
       "      <td>15270</td>\n",
       "      <td>1972-03-14</td>\n",
       "      <td>['italy', 'loss of loved one', 'love at first ...</td>\n",
       "      <td>['Drama', 'Crime']</td>\n",
       "      <td>['Marlon Brando', 'Al Pacino', 'James Caan', '...</td>\n",
       "      <td>['Francis Ford Coppola']</td>\n",
       "    </tr>\n",
       "    <tr>\n",
       "      <th>3</th>\n",
       "      <td>Gabriel's Inferno Part II</td>\n",
       "      <td>Professor Gabriel Emerson finally learns the t...</td>\n",
       "      <td>8.6</td>\n",
       "      <td>1369</td>\n",
       "      <td>2020-07-31</td>\n",
       "      <td>['based on novel or book']</td>\n",
       "      <td>['Romance']</td>\n",
       "      <td>['Melanie Zanetti', 'Giulio Berruti', 'James A...</td>\n",
       "      <td>['Tosca Musk']</td>\n",
       "    </tr>\n",
       "    <tr>\n",
       "      <th>4</th>\n",
       "      <td>Schindler's List</td>\n",
       "      <td>The true story of how businessman Oskar Schind...</td>\n",
       "      <td>8.6</td>\n",
       "      <td>12202</td>\n",
       "      <td>1993-11-30</td>\n",
       "      <td>['based on novel or book', 'factory', 'concent...</td>\n",
       "      <td>['Drama', 'History', 'War']</td>\n",
       "      <td>['Liam Neeson', 'Ben Kingsley', 'Ralph Fiennes...</td>\n",
       "      <td>['Steven Spielberg']</td>\n",
       "    </tr>\n",
       "  </tbody>\n",
       "</table>\n",
       "</div>"
      ],
      "text/plain": [
       "                         title  \\\n",
       "0  Dilwale Dulhania Le Jayenge   \n",
       "1     The Shawshank Redemption   \n",
       "2                The Godfather   \n",
       "3    Gabriel's Inferno Part II   \n",
       "4             Schindler's List   \n",
       "\n",
       "                                            overview  vote_average  \\\n",
       "0  Raj is a rich, carefree, happy-go-lucky second...           8.7   \n",
       "1  Framed in the 1940s for the double murder of h...           8.7   \n",
       "2  Spanning the years 1945 to 1955, a chronicle o...           8.7   \n",
       "3  Professor Gabriel Emerson finally learns the t...           8.6   \n",
       "4  The true story of how businessman Oskar Schind...           8.6   \n",
       "\n",
       "   vote_count release_date                                           keywords  \\\n",
       "0        3323   1995-10-20                                                 []   \n",
       "1       20434   1994-09-23  ['prison', 'corruption', 'police brutality', '...   \n",
       "2       15270   1972-03-14  ['italy', 'loss of loved one', 'love at first ...   \n",
       "3        1369   2020-07-31                         ['based on novel or book']   \n",
       "4       12202   1993-11-30  ['based on novel or book', 'factory', 'concent...   \n",
       "\n",
       "                           genres  \\\n",
       "0  ['Comedy', 'Drama', 'Romance']   \n",
       "1              ['Drama', 'Crime']   \n",
       "2              ['Drama', 'Crime']   \n",
       "3                     ['Romance']   \n",
       "4     ['Drama', 'History', 'War']   \n",
       "\n",
       "                                                cast                      crew  \n",
       "0  ['Shah Rukh Khan', 'Kajol', 'Amrish Puri', 'An...         ['Aditya Chopra']  \n",
       "1  ['Tim Robbins', 'Morgan Freeman', 'Bob Gunton'...        ['Frank Darabont']  \n",
       "2  ['Marlon Brando', 'Al Pacino', 'James Caan', '...  ['Francis Ford Coppola']  \n",
       "3  ['Melanie Zanetti', 'Giulio Berruti', 'James A...            ['Tosca Musk']  \n",
       "4  ['Liam Neeson', 'Ben Kingsley', 'Ralph Fiennes...      ['Steven Spielberg']  "
      ]
     },
     "execution_count": 151,
     "metadata": {},
     "output_type": "execute_result"
    }
   ],
   "source": [
    "df_tmdb_movie.head()"
   ]
  },
  {
   "cell_type": "markdown",
   "metadata": {},
   "source": [
    "Kết quả Schema Matching:\n",
    "\n",
    "- Bảng Movie\n",
    "\n",
    "| Source Schema | Data warehouse Schema |\n",
    "|---------------|-----------------------|\n",
    "| title         | movie_title           |\n",
    "| overview      | movie_info            |\n",
    "| release_date  | release_date          |\n",
    "| genres        | genres                |\n",
    "| cast          | actor                 |\n",
    "| crew          | directors             |\n",
    "\n",
    "- Bảng Rating: như nhận xét, kết quả matching sai hoàn toàn\n",
    "\n",
    "Cấu trúc giá trị của genres, crew, cast theo như mô tả trong data warehouse là <genres 1>, <genres 2>, ... , trong khi đó ở trong tmdb cấu trúc của genres lại là [<genres 1>,<genres 2>,...] , đồng thời các thể loại trong MovieLen có thể khác so với thể loại trong Data Warehouse => cần phải biến đổi lại"
   ]
  },
  {
   "cell_type": "markdown",
   "metadata": {},
   "source": [
    "# Xử lý trường genres"
   ]
  },
  {
   "cell_type": "markdown",
   "metadata": {},
   "source": [
    "Từ 2 danh sách thể loại, ta có thể mapping như dưới:\n",
    "|Data warehouse Genres|MovieLen Genres |\n",
    "| :- | :- |\n",
    "|‘Classic’||\n",
    "|‘Documentary’|‘Documentary’|\n",
    "|‘Western’|‘Western’|\n",
    "|‘Horror’|‘Horror’|\n",
    "|‘Science Fiction & Fantasy’|‘Sci-Fi’, ‘Fantasy’, 'Science Fiction'|\n",
    "|‘Gay & Lesbian’||\n",
    "|‘Drama’|‘Drama’|\n",
    "|‘Comedy’|‘Comedy’|\n",
    "|‘Cult Movies’||\n",
    "|‘Romance’|‘Romance’|\n",
    "|‘Television’||\n",
    "|‘Sport & Fitness’||\n",
    "|‘Art House & International’||\n",
    "|‘Special Interest’||\n",
    "|‘Animation’|‘Animation’|\n",
    "|‘Musical & Performing Arts’|‘Musical’|\n",
    "|‘Faith & Spirituality’||\n",
    "|‘Mystery & Suspense’|‘Mystery’|\n",
    "|‘Anime & Manga’||\n",
    "|‘Action & Adventure’|‘Action’, ‘Adventure’|\n",
    "|‘Kids & Family’|‘Family’|\n",
    "\n",
    "Những giá trị như TV Movie ta sẽ thêm vào Data Warehouse"
   ]
  },
  {
   "cell_type": "code",
   "execution_count": 152,
   "metadata": {},
   "outputs": [],
   "source": [
    "# Chuyển string thành list\n",
    "def genres_preprocess(genres):\n",
    "    list_genres = ''\n",
    "    if(len(genres) > 1):\n",
    "        list_String = genres[1:-1].split(\", \")\n",
    "        for idx, i in enumerate(list_String):\n",
    "            if(idx == len(list_String)-1):\n",
    "                list_genres += i[1:-1]\n",
    "            else:    \n",
    "                list_genres += i[1:-1] + ','\n",
    "    \n",
    "    return list_genres\n",
    "df_tmdb_movie[\"genres\"]=[genres_preprocess(i) for i in df_tmdb_movie[\"genres\"]]"
   ]
  },
  {
   "cell_type": "code",
   "execution_count": null,
   "metadata": {},
   "outputs": [],
   "source": [
    "df_tmdb_movie[\"genres\"]"
   ]
  },
  {
   "cell_type": "code",
   "execution_count": 154,
   "metadata": {},
   "outputs": [
    {
     "data": {
      "text/plain": [
       "['Fantasy',\n",
       " '',\n",
       " 'Crime',\n",
       " 'Western',\n",
       " 'Horror',\n",
       " 'Animation',\n",
       " 'Adventure',\n",
       " 'Drama',\n",
       " 'Comedy',\n",
       " 'TV Movie',\n",
       " 'Family',\n",
       " 'History',\n",
       " 'Mystery',\n",
       " 'War',\n",
       " 'Action',\n",
       " 'Science Fiction',\n",
       " 'Romance',\n",
       " 'Music',\n",
       " 'Thriller']"
      ]
     },
     "execution_count": 154,
     "metadata": {},
     "output_type": "execute_result"
    }
   ],
   "source": [
    "# Lấy danh sách các thể loại có trong tmdb\n",
    "df_tmdb_movie[\"genres\"]=[i.split(\",\") for i in df_tmdb_movie[\"genres\"]]\n",
    "tmdb_genres_list = []\n",
    "for i in df_tmdb_movie[\"genres\"]:\n",
    "    tmdb_genres_list+=i\n",
    "tmdb_genres_list = list(set(tmdb_genres_list))\n",
    "tmdb_genres_list"
   ]
  },
  {
   "cell_type": "code",
   "execution_count": 155,
   "metadata": {},
   "outputs": [],
   "source": [
    "replace_genres_dict = {'Mystery' : 'Mystery & Suspense', 'Thriller': 'Thrill',\n",
    "                        'Sci-Fi': 'Science Fiction & Fantasy', 'Fantasy': 'Science Fiction & Fantasy', 'Science Fiction': 'Science Fiction & Fantasy',\n",
    "                       'Adventure': 'Action & Adventure','Action': 'Action & Adventure',\n",
    "                       'Music': 'Musical & Performing Arts',\n",
    "                        'Family': 'Kids & Family'}\n",
    "def preprocess_genres(genre):\n",
    "    new_list_genres = \"\"\n",
    "    if(genre == ''):\n",
    "        new_list_genres = None\n",
    "    else:\n",
    "        for idx, i in enumerate(genre):\n",
    "            if i in replace_genres_dict:\n",
    "                new_list_genres+=replace_genres_dict[i]\n",
    "            else:\n",
    "                new_list_genres+=i\n",
    "            if idx != len(genre)-1:\n",
    "                new_list_genres+=\", \"\n",
    "    return new_list_genres\n",
    "df_tmdb_movie[\"genres\"] = [preprocess_genres(i) for i in df_tmdb_movie[\"genres\"]]"
   ]
  },
  {
   "cell_type": "code",
   "execution_count": null,
   "metadata": {},
   "outputs": [],
   "source": [
    "df_tmdb_movie[\"genres\"]"
   ]
  },
  {
   "cell_type": "code",
   "execution_count": 129,
   "metadata": {},
   "outputs": [],
   "source": [
    "# Thêm các giá trị mới vào trong genres warehouse\n",
    "# Giữ đg dẫn\n",
    "warehouse_genres_list+=[\"TV Movie\"]\n",
    "warehouse_genres_list = list(set(warehouse_genres_list))\n",
    "pd.DataFrame(warehouse_genres_list, columns=[\"genres\"]).to_csv(\n",
    "    \"/Users/trananhvu/Documents/Tichhopdulieu/Data_Integration_Group23/Data/warehouse/field_value/genres.csv\",\n",
    "    index=False \n",
    ")"
   ]
  },
  {
   "cell_type": "markdown",
   "metadata": {},
   "source": [
    "## Xử lý Cast"
   ]
  },
  {
   "cell_type": "code",
   "execution_count": 157,
   "metadata": {},
   "outputs": [],
   "source": [
    "# Chuyển string thành list\n",
    "def cast_preprocess(cast):\n",
    "    list_genres = ''\n",
    "    if(len(cast) > 1):\n",
    "        list_String = cast[1:-1].split(\", \")\n",
    "        for idx, i in enumerate(list_String):\n",
    "            if(idx == len(list_String)-1):\n",
    "                list_genres += i[1:-1]\n",
    "            else:    \n",
    "                list_genres += i[1:-1] + ', '\n",
    "    \n",
    "    return list_genres\n",
    "df_tmdb_movie[\"cast\"]=[cast_preprocess(i) for i in df_tmdb_movie[\"cast\"]]"
   ]
  },
  {
   "cell_type": "code",
   "execution_count": null,
   "metadata": {},
   "outputs": [],
   "source": [
    "df_tmdb_movie[\"cast\"]"
   ]
  },
  {
   "cell_type": "markdown",
   "metadata": {},
   "source": [
    "## Xử lý trường Crew"
   ]
  },
  {
   "cell_type": "code",
   "execution_count": 165,
   "metadata": {},
   "outputs": [],
   "source": [
    "# Chuyển string thành list\n",
    "def cast_preprocess(cast):\n",
    "    list_genres = ''\n",
    "    if(len(cast) > 2):\n",
    "        list_genres = cast[2:-2]\n",
    "    return list_genres\n",
    "df_tmdb_movie[\"crew\"]=[cast_preprocess(i) for i in df_tmdb_movie[\"crew\"]]"
   ]
  },
  {
   "cell_type": "code",
   "execution_count": 166,
   "metadata": {},
   "outputs": [
    {
     "data": {
      "text/plain": [
       "0              Aditya Chopra\n",
       "1             Frank Darabont\n",
       "2       Francis Ford Coppola\n",
       "3                 Tosca Musk\n",
       "4           Steven Spielberg\n",
       "                ...         \n",
       "9475         Patrice Leconte\n",
       "9476             Des McAnuff\n",
       "9477            Chris Fisher\n",
       "9478     Perry Andelin Blake\n",
       "9479          Joseph Sargent\n",
       "Name: crew, Length: 9480, dtype: object"
      ]
     },
     "execution_count": 166,
     "metadata": {},
     "output_type": "execute_result"
    }
   ],
   "source": [
    "df_tmdb_movie[\"crew\"]"
   ]
  },
  {
   "cell_type": "markdown",
   "metadata": {},
   "source": [
    "## Lưu dữ liệu"
   ]
  },
  {
   "cell_type": "code",
   "execution_count": null,
   "metadata": {},
   "outputs": [],
   "source": [
    "df_tmdb_movie.to_csv(\"H:/DataIntegation/tmdb/movies_preprocess.csv\", index=False)"
   ]
  }
 ],
 "metadata": {
  "kernelspec": {
   "display_name": "Python 3.9.4 64-bit",
   "language": "python",
   "name": "python3"
  },
  "language_info": {
   "codemirror_mode": {
    "name": "ipython",
    "version": 3
   },
   "file_extension": ".py",
   "mimetype": "text/x-python",
   "name": "python",
   "nbconvert_exporter": "python",
   "pygments_lexer": "ipython3",
   "version": "3.9.4"
  },
  "orig_nbformat": 4,
  "vscode": {
   "interpreter": {
    "hash": "11938c6bc6919ae2720b4d5011047913343b08a43b18698fd82dedb0d4417594"
   }
  }
 },
 "nbformat": 4,
 "nbformat_minor": 2
}
