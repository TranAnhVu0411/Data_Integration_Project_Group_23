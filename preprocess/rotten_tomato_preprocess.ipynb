{
 "cells": [
  {
   "cell_type": "markdown",
   "metadata": {},
   "source": [
    "Ta sẽ cho dữ liệu của rotten tomato vào data warehouse, với schema được thể hiện như sau:\n",
    "\n",
    "Bảng Movie Info: chứa các thông tin chung của movie\n",
    "\n",
    "- movie_id: mã phim, được mã hoá dưới dạng số\n",
    "- movie_title: tiêu đề\n",
    "- movie_info: mô tả\n",
    "- content_rating: giới hạn độ tuổi xem\n",
    "- genres: thể loại\n",
    "- directors: đạo diễn bộ phim\n",
    "- actors: diễn viên tham gia bộ phim\n",
    "- release_date: ngày ra mắt (chỉ lấy năm, để ở dạng float)\n",
    "- runtime: thời lượng bộ phim\n",
    "- image: link url của ảnh bìa (Hiện tại nguồn tomato đang không có trường này)\n",
    "\n",
    "Bảng Tomato Rating Info: chứa các thông tin về rating của movie trên trang Rotten Tomato\n",
    "- movie_id: khoá ngoại\n",
    "- tomatometer_rating: rating trung bình của các nhà phê bình phim\n",
    "- tomatometer_count: số lượng rating của các nhà phê bình phim\n",
    "- audience_rating: rating trung bình của khán giả\n",
    "- audience_count: số lượng rating của khán giả\n",
    "- link: link của trang web dẫn đến phim\n",
    "\n",
    "Bảng Tomato Review: chứa các thông tin bình luận và đánh giá của các nhà phê bình phim\n",
    "- movie_id: khoá ngoại\n",
    "- critic_name: tên người đánh giá\n",
    "- publisher_name: tên nhà sản xuất đánh giá\n",
    "- review_type: loại review (Fresh/Rotten)\n",
    "- review_score: điểm đánh giá\n",
    "- review_date: thời gian đánh giá\n",
    "- review_content: nội dung đánh giá\n",
    "\n",
    "Với các nguồn dữ liệu khác khi cho vào data warehouse cũng sẽ tách ra làm 2 bảng riêng: bảng về thông tin chung về movie và bảng về thông tin rating của movie đối với nguồn đó\n",
    "\n",
    "Ngoài ra, còn một số bảng tham khảo các giá trị của các trường trong data warehouse thể hiện ở dưới (Phục vụ cho xử lý các nguồn dữ liệu khác):\n",
    "\n",
    "- Bảng Cast and Director: chứa danh sách các đạo diễn và diễn viên tham gia phim\n",
    "- Bảng Genres: chứa danh sách các thể loại\n",
    "- Bảng Content Rating: chứa danh sách các content rating"
   ]
  },
  {
   "cell_type": "code",
   "execution_count": 22,
   "metadata": {},
   "outputs": [],
   "source": [
    "import os\n",
    "# Chỉnh lại tên directory theo tên parent_dir trong folder_create.py\n",
    "os.chdir(\"/Users/trananhvu/Documents/Tichhopdulieu/Data_Integration_Group23/Data_Integration_Project_Group_23\")"
   ]
  },
  {
   "cell_type": "code",
   "execution_count": 23,
   "metadata": {},
   "outputs": [],
   "source": [
    "import pandas as pd\n",
    "import re\n",
    "import folder_create as folder"
   ]
  },
  {
   "cell_type": "code",
   "execution_count": 24,
   "metadata": {},
   "outputs": [
    {
     "data": {
      "text/html": [
       "<div>\n",
       "<style scoped>\n",
       "    .dataframe tbody tr th:only-of-type {\n",
       "        vertical-align: middle;\n",
       "    }\n",
       "\n",
       "    .dataframe tbody tr th {\n",
       "        vertical-align: top;\n",
       "    }\n",
       "\n",
       "    .dataframe thead th {\n",
       "        text-align: right;\n",
       "    }\n",
       "</style>\n",
       "<table border=\"1\" class=\"dataframe\">\n",
       "  <thead>\n",
       "    <tr style=\"text-align: right;\">\n",
       "      <th></th>\n",
       "      <th>rotten_tomatoes_link</th>\n",
       "      <th>movie_title</th>\n",
       "      <th>movie_info</th>\n",
       "      <th>critics_consensus</th>\n",
       "      <th>content_rating</th>\n",
       "      <th>genres</th>\n",
       "      <th>directors</th>\n",
       "      <th>authors</th>\n",
       "      <th>actors</th>\n",
       "      <th>original_release_date</th>\n",
       "      <th>...</th>\n",
       "      <th>production_company</th>\n",
       "      <th>tomatometer_status</th>\n",
       "      <th>tomatometer_rating</th>\n",
       "      <th>tomatometer_count</th>\n",
       "      <th>audience_status</th>\n",
       "      <th>audience_rating</th>\n",
       "      <th>audience_count</th>\n",
       "      <th>tomatometer_top_critics_count</th>\n",
       "      <th>tomatometer_fresh_critics_count</th>\n",
       "      <th>tomatometer_rotten_critics_count</th>\n",
       "    </tr>\n",
       "  </thead>\n",
       "  <tbody>\n",
       "    <tr>\n",
       "      <th>0</th>\n",
       "      <td>m/0814255</td>\n",
       "      <td>Percy Jackson &amp; the Olympians: The Lightning T...</td>\n",
       "      <td>Always trouble-prone, the life of teenager Per...</td>\n",
       "      <td>Though it may seem like just another Harry Pot...</td>\n",
       "      <td>PG</td>\n",
       "      <td>Action &amp; Adventure, Comedy, Drama, Science Fic...</td>\n",
       "      <td>Chris Columbus</td>\n",
       "      <td>Craig Titley, Chris Columbus, Rick Riordan</td>\n",
       "      <td>Logan Lerman, Brandon T. Jackson, Alexandra Da...</td>\n",
       "      <td>2010-02-12</td>\n",
       "      <td>...</td>\n",
       "      <td>20th Century Fox</td>\n",
       "      <td>Rotten</td>\n",
       "      <td>49.0</td>\n",
       "      <td>149.0</td>\n",
       "      <td>Spilled</td>\n",
       "      <td>53.0</td>\n",
       "      <td>254421.0</td>\n",
       "      <td>43</td>\n",
       "      <td>73</td>\n",
       "      <td>76</td>\n",
       "    </tr>\n",
       "    <tr>\n",
       "      <th>1</th>\n",
       "      <td>m/0878835</td>\n",
       "      <td>Please Give</td>\n",
       "      <td>Kate (Catherine Keener) and her husband Alex (...</td>\n",
       "      <td>Nicole Holofcener's newest might seem slight i...</td>\n",
       "      <td>R</td>\n",
       "      <td>Comedy</td>\n",
       "      <td>Nicole Holofcener</td>\n",
       "      <td>Nicole Holofcener</td>\n",
       "      <td>Catherine Keener, Amanda Peet, Oliver Platt, R...</td>\n",
       "      <td>2010-04-30</td>\n",
       "      <td>...</td>\n",
       "      <td>Sony Pictures Classics</td>\n",
       "      <td>Certified-Fresh</td>\n",
       "      <td>87.0</td>\n",
       "      <td>142.0</td>\n",
       "      <td>Upright</td>\n",
       "      <td>64.0</td>\n",
       "      <td>11574.0</td>\n",
       "      <td>44</td>\n",
       "      <td>123</td>\n",
       "      <td>19</td>\n",
       "    </tr>\n",
       "    <tr>\n",
       "      <th>2</th>\n",
       "      <td>m/10</td>\n",
       "      <td>10</td>\n",
       "      <td>A successful, middle-aged Hollywood songwriter...</td>\n",
       "      <td>Blake Edwards' bawdy comedy may not score a pe...</td>\n",
       "      <td>R</td>\n",
       "      <td>Comedy, Romance</td>\n",
       "      <td>Blake Edwards</td>\n",
       "      <td>Blake Edwards</td>\n",
       "      <td>Dudley Moore, Bo Derek, Julie Andrews, Robert ...</td>\n",
       "      <td>1979-10-05</td>\n",
       "      <td>...</td>\n",
       "      <td>Waner Bros.</td>\n",
       "      <td>Fresh</td>\n",
       "      <td>67.0</td>\n",
       "      <td>24.0</td>\n",
       "      <td>Spilled</td>\n",
       "      <td>53.0</td>\n",
       "      <td>14684.0</td>\n",
       "      <td>2</td>\n",
       "      <td>16</td>\n",
       "      <td>8</td>\n",
       "    </tr>\n",
       "    <tr>\n",
       "      <th>3</th>\n",
       "      <td>m/1000013-12_angry_men</td>\n",
       "      <td>12 Angry Men (Twelve Angry Men)</td>\n",
       "      <td>Following the closing arguments in a murder tr...</td>\n",
       "      <td>Sidney Lumet's feature debut is a superbly wri...</td>\n",
       "      <td>NR</td>\n",
       "      <td>Classics, Drama</td>\n",
       "      <td>Sidney Lumet</td>\n",
       "      <td>Reginald Rose</td>\n",
       "      <td>Martin Balsam, John Fiedler, Lee J. Cobb, E.G....</td>\n",
       "      <td>1957-04-13</td>\n",
       "      <td>...</td>\n",
       "      <td>Criterion Collection</td>\n",
       "      <td>Certified-Fresh</td>\n",
       "      <td>100.0</td>\n",
       "      <td>54.0</td>\n",
       "      <td>Upright</td>\n",
       "      <td>97.0</td>\n",
       "      <td>105386.0</td>\n",
       "      <td>6</td>\n",
       "      <td>54</td>\n",
       "      <td>0</td>\n",
       "    </tr>\n",
       "    <tr>\n",
       "      <th>4</th>\n",
       "      <td>m/1000079-20000_leagues_under_the_sea</td>\n",
       "      <td>20,000 Leagues Under The Sea</td>\n",
       "      <td>In 1866, Professor Pierre M. Aronnax (Paul Luk...</td>\n",
       "      <td>One of Disney's finest live-action adventures,...</td>\n",
       "      <td>G</td>\n",
       "      <td>Action &amp; Adventure, Drama, Kids &amp; Family</td>\n",
       "      <td>Richard Fleischer</td>\n",
       "      <td>Earl Felton</td>\n",
       "      <td>James Mason, Kirk Douglas, Paul Lukas, Peter L...</td>\n",
       "      <td>1954-01-01</td>\n",
       "      <td>...</td>\n",
       "      <td>Disney</td>\n",
       "      <td>Fresh</td>\n",
       "      <td>89.0</td>\n",
       "      <td>27.0</td>\n",
       "      <td>Upright</td>\n",
       "      <td>74.0</td>\n",
       "      <td>68918.0</td>\n",
       "      <td>5</td>\n",
       "      <td>24</td>\n",
       "      <td>3</td>\n",
       "    </tr>\n",
       "  </tbody>\n",
       "</table>\n",
       "<p>5 rows × 22 columns</p>\n",
       "</div>"
      ],
      "text/plain": [
       "                    rotten_tomatoes_link  \\\n",
       "0                              m/0814255   \n",
       "1                              m/0878835   \n",
       "2                                   m/10   \n",
       "3                 m/1000013-12_angry_men   \n",
       "4  m/1000079-20000_leagues_under_the_sea   \n",
       "\n",
       "                                         movie_title  \\\n",
       "0  Percy Jackson & the Olympians: The Lightning T...   \n",
       "1                                        Please Give   \n",
       "2                                                 10   \n",
       "3                    12 Angry Men (Twelve Angry Men)   \n",
       "4                       20,000 Leagues Under The Sea   \n",
       "\n",
       "                                          movie_info  \\\n",
       "0  Always trouble-prone, the life of teenager Per...   \n",
       "1  Kate (Catherine Keener) and her husband Alex (...   \n",
       "2  A successful, middle-aged Hollywood songwriter...   \n",
       "3  Following the closing arguments in a murder tr...   \n",
       "4  In 1866, Professor Pierre M. Aronnax (Paul Luk...   \n",
       "\n",
       "                                   critics_consensus content_rating  \\\n",
       "0  Though it may seem like just another Harry Pot...             PG   \n",
       "1  Nicole Holofcener's newest might seem slight i...              R   \n",
       "2  Blake Edwards' bawdy comedy may not score a pe...              R   \n",
       "3  Sidney Lumet's feature debut is a superbly wri...             NR   \n",
       "4  One of Disney's finest live-action adventures,...              G   \n",
       "\n",
       "                                              genres          directors  \\\n",
       "0  Action & Adventure, Comedy, Drama, Science Fic...     Chris Columbus   \n",
       "1                                             Comedy  Nicole Holofcener   \n",
       "2                                    Comedy, Romance      Blake Edwards   \n",
       "3                                    Classics, Drama       Sidney Lumet   \n",
       "4           Action & Adventure, Drama, Kids & Family  Richard Fleischer   \n",
       "\n",
       "                                      authors  \\\n",
       "0  Craig Titley, Chris Columbus, Rick Riordan   \n",
       "1                           Nicole Holofcener   \n",
       "2                               Blake Edwards   \n",
       "3                               Reginald Rose   \n",
       "4                                 Earl Felton   \n",
       "\n",
       "                                              actors original_release_date  \\\n",
       "0  Logan Lerman, Brandon T. Jackson, Alexandra Da...            2010-02-12   \n",
       "1  Catherine Keener, Amanda Peet, Oliver Platt, R...            2010-04-30   \n",
       "2  Dudley Moore, Bo Derek, Julie Andrews, Robert ...            1979-10-05   \n",
       "3  Martin Balsam, John Fiedler, Lee J. Cobb, E.G....            1957-04-13   \n",
       "4  James Mason, Kirk Douglas, Paul Lukas, Peter L...            1954-01-01   \n",
       "\n",
       "   ...      production_company  tomatometer_status tomatometer_rating  \\\n",
       "0  ...        20th Century Fox              Rotten               49.0   \n",
       "1  ...  Sony Pictures Classics     Certified-Fresh               87.0   \n",
       "2  ...             Waner Bros.               Fresh               67.0   \n",
       "3  ...    Criterion Collection     Certified-Fresh              100.0   \n",
       "4  ...                  Disney               Fresh               89.0   \n",
       "\n",
       "  tomatometer_count  audience_status  audience_rating audience_count  \\\n",
       "0             149.0          Spilled             53.0       254421.0   \n",
       "1             142.0          Upright             64.0        11574.0   \n",
       "2              24.0          Spilled             53.0        14684.0   \n",
       "3              54.0          Upright             97.0       105386.0   \n",
       "4              27.0          Upright             74.0        68918.0   \n",
       "\n",
       "   tomatometer_top_critics_count  tomatometer_fresh_critics_count  \\\n",
       "0                             43                               73   \n",
       "1                             44                              123   \n",
       "2                              2                               16   \n",
       "3                              6                               54   \n",
       "4                              5                               24   \n",
       "\n",
       "   tomatometer_rotten_critics_count  \n",
       "0                                76  \n",
       "1                                19  \n",
       "2                                 8  \n",
       "3                                 0  \n",
       "4                                 3  \n",
       "\n",
       "[5 rows x 22 columns]"
      ]
     },
     "execution_count": 24,
     "metadata": {},
     "output_type": "execute_result"
    }
   ],
   "source": [
    "# Movie Info\n",
    "df_tomato_movie = pd.read_csv(os.path.join(folder.tomato_dir, \"rotten_tomatoes_movies.csv\"))\n",
    "df_tomato_movie.head()"
   ]
  },
  {
   "cell_type": "code",
   "execution_count": 25,
   "metadata": {},
   "outputs": [
    {
     "data": {
      "text/html": [
       "<div>\n",
       "<style scoped>\n",
       "    .dataframe tbody tr th:only-of-type {\n",
       "        vertical-align: middle;\n",
       "    }\n",
       "\n",
       "    .dataframe tbody tr th {\n",
       "        vertical-align: top;\n",
       "    }\n",
       "\n",
       "    .dataframe thead th {\n",
       "        text-align: right;\n",
       "    }\n",
       "</style>\n",
       "<table border=\"1\" class=\"dataframe\">\n",
       "  <thead>\n",
       "    <tr style=\"text-align: right;\">\n",
       "      <th></th>\n",
       "      <th>rotten_tomatoes_link</th>\n",
       "      <th>critic_name</th>\n",
       "      <th>top_critic</th>\n",
       "      <th>publisher_name</th>\n",
       "      <th>review_type</th>\n",
       "      <th>review_score</th>\n",
       "      <th>review_date</th>\n",
       "      <th>review_content</th>\n",
       "    </tr>\n",
       "  </thead>\n",
       "  <tbody>\n",
       "    <tr>\n",
       "      <th>0</th>\n",
       "      <td>m/0814255</td>\n",
       "      <td>Andrew L. Urban</td>\n",
       "      <td>False</td>\n",
       "      <td>Urban Cinefile</td>\n",
       "      <td>Fresh</td>\n",
       "      <td>NaN</td>\n",
       "      <td>2010-02-06</td>\n",
       "      <td>A fantasy adventure that fuses Greek mythology...</td>\n",
       "    </tr>\n",
       "    <tr>\n",
       "      <th>1</th>\n",
       "      <td>m/0814255</td>\n",
       "      <td>Louise Keller</td>\n",
       "      <td>False</td>\n",
       "      <td>Urban Cinefile</td>\n",
       "      <td>Fresh</td>\n",
       "      <td>NaN</td>\n",
       "      <td>2010-02-06</td>\n",
       "      <td>Uma Thurman as Medusa, the gorgon with a coiff...</td>\n",
       "    </tr>\n",
       "    <tr>\n",
       "      <th>2</th>\n",
       "      <td>m/0814255</td>\n",
       "      <td>NaN</td>\n",
       "      <td>False</td>\n",
       "      <td>FILMINK (Australia)</td>\n",
       "      <td>Fresh</td>\n",
       "      <td>NaN</td>\n",
       "      <td>2010-02-09</td>\n",
       "      <td>With a top-notch cast and dazzling special eff...</td>\n",
       "    </tr>\n",
       "    <tr>\n",
       "      <th>3</th>\n",
       "      <td>m/0814255</td>\n",
       "      <td>Ben McEachen</td>\n",
       "      <td>False</td>\n",
       "      <td>Sunday Mail (Australia)</td>\n",
       "      <td>Fresh</td>\n",
       "      <td>3.5/5</td>\n",
       "      <td>2010-02-09</td>\n",
       "      <td>Whether audiences will get behind The Lightnin...</td>\n",
       "    </tr>\n",
       "    <tr>\n",
       "      <th>4</th>\n",
       "      <td>m/0814255</td>\n",
       "      <td>Ethan Alter</td>\n",
       "      <td>True</td>\n",
       "      <td>Hollywood Reporter</td>\n",
       "      <td>Rotten</td>\n",
       "      <td>NaN</td>\n",
       "      <td>2010-02-10</td>\n",
       "      <td>What's really lacking in The Lightning Thief i...</td>\n",
       "    </tr>\n",
       "  </tbody>\n",
       "</table>\n",
       "</div>"
      ],
      "text/plain": [
       "  rotten_tomatoes_link      critic_name  top_critic           publisher_name  \\\n",
       "0            m/0814255  Andrew L. Urban       False           Urban Cinefile   \n",
       "1            m/0814255    Louise Keller       False           Urban Cinefile   \n",
       "2            m/0814255              NaN       False      FILMINK (Australia)   \n",
       "3            m/0814255     Ben McEachen       False  Sunday Mail (Australia)   \n",
       "4            m/0814255      Ethan Alter        True       Hollywood Reporter   \n",
       "\n",
       "  review_type review_score review_date  \\\n",
       "0       Fresh          NaN  2010-02-06   \n",
       "1       Fresh          NaN  2010-02-06   \n",
       "2       Fresh          NaN  2010-02-09   \n",
       "3       Fresh        3.5/5  2010-02-09   \n",
       "4      Rotten          NaN  2010-02-10   \n",
       "\n",
       "                                      review_content  \n",
       "0  A fantasy adventure that fuses Greek mythology...  \n",
       "1  Uma Thurman as Medusa, the gorgon with a coiff...  \n",
       "2  With a top-notch cast and dazzling special eff...  \n",
       "3  Whether audiences will get behind The Lightnin...  \n",
       "4  What's really lacking in The Lightning Thief i...  "
      ]
     },
     "execution_count": 25,
     "metadata": {},
     "output_type": "execute_result"
    }
   ],
   "source": [
    "# Review Info\n",
    "df_tomato_review = pd.read_csv(os.path.join(folder.tomato_dir,\"rotten_tomatoes_critic_reviews.csv\"))\n",
    "df_tomato_review.head()"
   ]
  },
  {
   "cell_type": "markdown",
   "metadata": {},
   "source": [
    "# Xử lý dữ liệu và tạo bảng trong data warehouse"
   ]
  },
  {
   "cell_type": "markdown",
   "metadata": {},
   "source": [
    "## Xử lý dữ liệu"
   ]
  },
  {
   "cell_type": "markdown",
   "metadata": {},
   "source": [
    "### Tạo khoá cho dữ liệu"
   ]
  },
  {
   "cell_type": "markdown",
   "metadata": {},
   "source": [
    "Do nguồn rotten tomato không có id phim riêng, cho nên ta xem xét việc lấy trường rotten_tomatoes_link làm liên kết tạm thời giữa hai bảng movie và review"
   ]
  },
  {
   "cell_type": "code",
   "execution_count": 4,
   "metadata": {},
   "outputs": [
    {
     "name": "stdout",
     "output_type": "stream",
     "text": [
      "Số bản ghi trong df_tomato_movie có trường rotten_tomatoes_link null: 0\n",
      "Số bản ghi trong df_tomato_review có trường rotten_tomatoes_link null: 0\n"
     ]
    }
   ],
   "source": [
    "print(\"Số bản ghi trong df_tomato_movie có trường rotten_tomatoes_link null: \"+ str(sum(df_tomato_movie[\"rotten_tomatoes_link\"].isna())))\n",
    "print(\"Số bản ghi trong df_tomato_review có trường rotten_tomatoes_link null: \"+ str(sum(df_tomato_review[\"rotten_tomatoes_link\"].isna())))"
   ]
  },
  {
   "cell_type": "code",
   "execution_count": 6,
   "metadata": {},
   "outputs": [],
   "source": [
    "# Tạo một trường movie_id\n",
    "df_tomato_movie[\"movie_id\"]=[\"movie\"+str(idx) for idx in range(len(df_tomato_movie))]\n",
    "# Chỉnh sửa trường rotten_tomatoes_link\n",
    "df_tomato_review[\"rotten_tomatoes_link\"]=[\"https://www.rottentomatoes.com/\"+i for i in df_tomato_review[\"rotten_tomatoes_link\"]]\n",
    "df_tomato_movie[\"rotten_tomatoes_link\"]=[\"https://www.rottentomatoes.com/\"+i for i in df_tomato_movie[\"rotten_tomatoes_link\"]]"
   ]
  },
  {
   "cell_type": "markdown",
   "metadata": {},
   "source": [
    "Ta sẽ tạo thêm cột movie_id cho bảng review"
   ]
  },
  {
   "cell_type": "code",
   "execution_count": 7,
   "metadata": {},
   "outputs": [],
   "source": [
    "# Tạo dictionary liên kết movie_id và rotten_tomatoes_link\n",
    "link_id_dict = {}\n",
    "for i in range(len(df_tomato_movie)):\n",
    "    link_id_dict[df_tomato_movie.iloc[i][\"rotten_tomatoes_link\"]]=df_tomato_movie.iloc[i][\"movie_id\"]"
   ]
  },
  {
   "cell_type": "code",
   "execution_count": 8,
   "metadata": {},
   "outputs": [],
   "source": [
    "def create_movie_id(link):\n",
    "    # Có khả năng link đó không tồn tại trong bảng movie\n",
    "    if link in link_id_dict.keys():\n",
    "        return link_id_dict[link]\n",
    "    else:\n",
    "        return None\n",
    "df_tomato_review[\"movie_id\"]=[create_movie_id(i) for i in df_tomato_review[\"rotten_tomatoes_link\"]]"
   ]
  },
  {
   "cell_type": "code",
   "execution_count": 8,
   "metadata": {},
   "outputs": [
    {
     "name": "stdout",
     "output_type": "stream",
     "text": [
      "Số đường link không rõ trong trường rotten_tomatoes_link của bảng review: 130\n"
     ]
    }
   ],
   "source": [
    "print(\"Số đường link không rõ trong trường rotten_tomatoes_link của bảng review: \"+str(sum(df_tomato_review[\"movie_id\"].isna())))"
   ]
  },
  {
   "cell_type": "code",
   "execution_count": 9,
   "metadata": {},
   "outputs": [],
   "source": [
    "# Tiến hành loại bỏ các bản ghi đó\n",
    "df_tomato_review = df_tomato_review.dropna(subset=[\"movie_id\"])"
   ]
  },
  {
   "cell_type": "markdown",
   "metadata": {},
   "source": [
    "### Tạo thêm trường image"
   ]
  },
  {
   "cell_type": "code",
   "execution_count": 10,
   "metadata": {},
   "outputs": [],
   "source": [
    "df_tomato_movie[\"image\"]=None"
   ]
  },
  {
   "cell_type": "markdown",
   "metadata": {},
   "source": [
    "### Chuyển đổi release_date"
   ]
  },
  {
   "cell_type": "code",
   "execution_count": 11,
   "metadata": {},
   "outputs": [
    {
     "data": {
      "text/plain": [
       "0    2010-02-12\n",
       "1    2010-04-30\n",
       "2    1979-10-05\n",
       "3    1957-04-13\n",
       "4    1954-01-01\n",
       "Name: original_release_date, dtype: object"
      ]
     },
     "execution_count": 11,
     "metadata": {},
     "output_type": "execute_result"
    }
   ],
   "source": [
    "df_tomato_movie[\"original_release_date\"].head()"
   ]
  },
  {
   "cell_type": "markdown",
   "metadata": {},
   "source": [
    "Ta thấy giá trị trường release_date có dạng YYYY-mm-DD, ta sẽ chỉ lấy year"
   ]
  },
  {
   "cell_type": "code",
   "execution_count": 12,
   "metadata": {},
   "outputs": [],
   "source": [
    "def get_year(date):\n",
    "    if type(date)!=float:\n",
    "        return float(date[:4])\n",
    "df_tomato_movie[\"original_release_date\"]=[get_year(i) for i in df_tomato_movie[\"original_release_date\"]]"
   ]
  },
  {
   "cell_type": "markdown",
   "metadata": {},
   "source": [
    "### Chuyển đổi review_score"
   ]
  },
  {
   "cell_type": "code",
   "execution_count": 18,
   "metadata": {},
   "outputs": [
    {
     "data": {
      "text/plain": [
       "array([nan, '3.5/5', '1/4', 'B', '3/5', '4/5', '2/4', '2/5', 'C', '2.5/4',\n",
       "       '3/4', 'C-', '2.75/5', 'B-', '2.5/5', '5.5/10', '1/5', 'C+', 'D+',\n",
       "       '1.5/4', '6.5/10', '3/10', '1.5/5', '4/10', '7/10', '6/10', 'B+',\n",
       "       '5/5', 'A-', '4.5/5', '5.78/10', '3.5/4', 'A', '9/10', '8.5/10',\n",
       "       '4/4', '83/100', '8/10', '92/100', '82/100', '84/100', '10/10',\n",
       "       'D-', 'F', '0.5/4', 'D', '5/10', '2/10', '2/6', '0.5/5', '0/4',\n",
       "       '0/5', '76/100', '87/100', '74/100', '86/100', '81/100', '56/100',\n",
       "       '78/100', '2.25/5', '8.8/10', '0/10', '44/100', '2.75/4', '2.4/5',\n",
       "       '8.6/10', '79/100', '68/100', '80/100', '90/100', '66/100',\n",
       "       '91/100', '0.3/5', '9.2/10', '2.7/5', '57/100', '4/6', '3/6',\n",
       "       '73/100', '42/100', '65/100', '7.5/10', '4.5/10', '5/6', '1/6',\n",
       "       '70/100', '3.5/10', '71/100', '0.1/5', '3.25/10', '89/100',\n",
       "       '40/100', '64/100', '62/100', '1/10', '3.75/5', '37/100', '49/100',\n",
       "       '60/100', '3.3/5', '77/100', '5.25/10', '1.4/4', '75/100', '1.5/6',\n",
       "       '85/100', '4.25/10', '47/100', '6/8', '52/100', '63/100', '50/100',\n",
       "       '41/100', '46/100', '6.95/10', '53/100', '9.5/10', '59/100',\n",
       "       '43/100', '9.45/10', '45/100', '69/100', '7.25/10', '5.85/10',\n",
       "       '9.88/10', '39/100', '0.13/1', '8.25/10', '5.75/10', '6.1/10',\n",
       "       '6.8/10', '8.9/10', '8.75/10', '2.5/10', '5.9/10', '4.2/10',\n",
       "       '7.35/10', '4.6/10', '6.75/10', '4.90/10', '4.827/10', '2/2',\n",
       "       '58/100', '4.75/10', '3.4/10', '88/100', '5.48/10', '9.16/10',\n",
       "       '3.4/4', '4.25/5', '3.7/10', '6.765/10', '67/100', '34/100',\n",
       "       '51/100', '3.4/5', '72/100', '93/100', '5', '95/95', '98/100',\n",
       "       '94/100', '99/100', '4', '55/100', '61/100', '35/100', '95/100',\n",
       "       '1/3', '5/8', '7', '4.2/5', '3', '30/100', '54/100', '48/100',\n",
       "       '18/100', '10', '25/100', '7/5', '3.25/5', '7.4/10', '2', '6.2/10',\n",
       "       '5.12/10', '5/100', '1', '0.75/5', '8', '100/100', '2.8/4',\n",
       "       '2.25/4', '31/100', '2.4/4', '32/100', '3.8/5', '8.3/10', '8.4/10',\n",
       "       '5.3/10', '0/100', '0.2/5', '8.7/10', '2.2/5', '2.3/5', '3.2/5',\n",
       "       '2.8/5', '2.75/3', '4.85/10', '3.5/6', '3.25/4', '0.5/10',\n",
       "       '1.75/4', '28/100', '9.25/10', '5.80/10', '6.25/10', '7.2/10',\n",
       "       '6.9/10', '1.2/5', '8.35/10', '6.4/10', '7/11', '8.70/10',\n",
       "       '9.75/10', '1.21/10', '1.35/5', '23/100', '38/100', '6.3/10',\n",
       "       '8.85/10', '7.3/10', '7.15/10', '1.25/4', '3.9/10', '4.21/10',\n",
       "       '9.35/10', '2.75/10', '8.76/10', '7.7/10', '7.75/10', '5.15/10',\n",
       "       '7.85/10', '1.8/5', '0', '6.45/10', '5.95/10', '8.1/10', '3.7/5',\n",
       "       '7.9/10', '9.9/10', '13/20', '6', '4.75/5', '2.83/5', '17/20',\n",
       "       '8.74/10', '9', '7.8/10', '5.8311/10', '47/50', '3.20/10',\n",
       "       '6.65/10', '5.88/10', '19/100', '2.5/3', '15/100', '8.621/10',\n",
       "       '16/20', '1.75/5', '5.8/10', '1.5/10', '8.50/10', '5.65/10',\n",
       "       '10.50/20', '9.19/10', '4.4/10', '5.6/10', '14.5/20', '4.1/5',\n",
       "       '8.05/10', '0/6', '1.6/5', '3.1/5', '6.85/10', '4.35/10', '9.1/10',\n",
       "       '8.88/10', '6.6/10', '6.7/10', '5.4/10', '20/20', '8.2/10',\n",
       "       '16.5/20', '7.1/10', '5.7/10', '11/20', '8.95/10', '3.75/10',\n",
       "       '15/20', '3.6/5', '7.6/10', '5.9737991/10', '18.5/20', '14/20',\n",
       "       '7.05/10', '18/20', '9.86/10', '4.8/10', '4.7/10', '2.74/10',\n",
       "       '4.9/10', '26/100', '2.12/5', '5.2/10', '7.96/10', '21/100',\n",
       "       '6.9921/10', '4.5/4', '7.892/10', '5.5/5', '1/54', '1.2/10',\n",
       "       '8.89/10', '33/100', '8.99/10', '5.5/20', '8.10/10', '6.68/10',\n",
       "       '13/100', '2.9/10', '5.61/10', '4.65/10', '8/20', '9.12/10', '3/3',\n",
       "       '5.49/10', '20/100', '6.78/10', '10/20', '0.02/5', '3.8/10',\n",
       "       '8.65/10', '5.1/10', '9/5', '1.7/5', '25', '8.7328/10',\n",
       "       '7.00122/10', '9.851/10', '8.251/10', '5/20', '7.57/10', '12/20',\n",
       "       '2.1/5', '9.5/20', '10/100', '5.51/10', '1.4/5', '2.6/6', '9.4/10',\n",
       "       '4.8/5', '4.45/10', '4.65/5', '2.6/5', '3.15/5', '6.98/10',\n",
       "       '4.7/5', '4.1/10', '3.5/3', '4.4/5', '9.3/10', '4.3/5', '3.9/5',\n",
       "       '2.20282652/10', '3.75/4', '3.3/10', '11.5/20', '7.5/20',\n",
       "       '8.53899/10', '6/13', '2.11/5', '9.7/10', '2.6/10', '0.7221/10',\n",
       "       '3.76/5', '2.95/10', '6.15/10', '7.5314585/10', '8.15/10',\n",
       "       '9.85/10', '97/100', '7.83/10', '3.2121/10', '8.55/10',\n",
       "       '2.282303/10', '88', '1.5/2', '4.21382343/10', '8/100', '17.5/20',\n",
       "       '1.24/5', '1.25/5', '4.3/10', '2.7/10', '4.521/10', '6.0001/10',\n",
       "       '4.143641/10', '9.15/10', '48', '4.05524/10', '8/5', '3/100',\n",
       "       '3.83412437/10', '9.6/10', '9.79/10', '7.21/10', '9.5/5', '3.2/10',\n",
       "       '7.696/10', '5.872/10', '9.50/20', '5.1921/10', '2.892521821/10',\n",
       "       '0.81/1', '27/100', '6.35/10', '2.9/5', '9.74/10', '9.33/10',\n",
       "       '7.02/10', '2.1/10', '7.89/10', '2.50/5', '9.21/10', '5.57/10',\n",
       "       '19/20', '9.8/10', '8.32/10', '1/1', '5.9821/10', '8.385/10',\n",
       "       '0.5/5.5', '45', '7.95/10', '6.09/10', '1.9/10', '3.55/10',\n",
       "       '7.45/10', '7.62121/10', '1.9/5', '3.515/10', '15.5/20', '3.85/10',\n",
       "       '8.72/10', '35/4', '5.5/6', '36/100', '9.1221/10', '9.65/10',\n",
       "       '4.70/10', '2.2/10', '7.61/10', '2.3/4', '6.4821/10', '7.3821/10',\n",
       "       '8.3721/10', '5.44/10', '8.92/10', '7.49/10', '8.225/10', '0.25/4',\n",
       "       '1.5242228/10', '5.56/10', '9/20', '24/100', '7.01/10', '9.67/10',\n",
       "       '7.2234238/10', '6.00024/10', '7.111113314/10', '8.21/10',\n",
       "       '5.21/10', '79/80', '9.145/10', '9.865/10', '4.95/10', '5.6642/10',\n",
       "       '9/100', '6.875/10', '0.66/10', '1.2/4', '5.8943/10', '3.99/10',\n",
       "       '13.5/20', '61/00', '5.72/10', '1.3/5', '0.05/4', '4.6/5',\n",
       "       '8.57/10', '24', '0/1000', '5.35/10', '29/100', '1.9528/10', '35',\n",
       "       '7.65/10', '5.55/10', '2.5/20', '69/70', '9.26/10', '8.735/10',\n",
       "       '6.1121/10', '6.0000001/10', '2/8', '9.78/10', '5.45/10',\n",
       "       '14.50/20', '6.26/10', '2.85/5', '2.6/4', '7.218/10', '0.6/1',\n",
       "       '3.021/10', '7.10/10', '0.96/10', '8.666/10', '3/40', '0.82/10',\n",
       "       '7.98/10', '5.5542/10', '8.901/10', '2.55/5', '7.22/10', '5.70/10',\n",
       "       'A  -', '7.04/10', '2.4/10', '5.89521/10', '2.8/10', '7.3856/10',\n",
       "       '8.899327/10', '1.1/2', '8.2621/10', '7.212121/10', '4.89215/10',\n",
       "       '9.89/10', '2.212521/10', '22/100', '5.6521/10', '8.87/10',\n",
       "       '3.1/10', '4/5.5', '4.95/5', '8.19/10', '9.552/10', '7/20',\n",
       "       '4.211/10', '4/3.5', '46', '4.9837/10', '9.38/10', '5.284849/10',\n",
       "       '8.67/10', '6.9621/10', '2.5/50', '2.255/5', '90', '75', '8.61/10',\n",
       "       '3.5/5.5', '5.81/10', '66/70', '3.222423/10', '4.2112/10',\n",
       "       '1.82/10', '6.000003231/10', '3.76/10', '5.76/10', '2/54', '0.8/5',\n",
       "       '6/11', '8.458/10', '2.89/5', '5.8921/10', '8.496/10', '2.3/10',\n",
       "       '0.21/10', '4.51/10', '9.76/10', '59/60', '0.9/10', '3.65/5',\n",
       "       '6/6', '6.7/8', '9.46/10', '8.45/10', '8.26/10', '1.85/10',\n",
       "       '0.75/10', '4.89/10', '6.55/10', '1.62/5', '0.85/10', '9.121/10',\n",
       "       '9.6421/10', '8.5788222/10', '3.45/5', '96/100', '67/10',\n",
       "       '7.2621/10', '2/3', '5.23/10', '7.79/10', '9.1421/10', '87/10',\n",
       "       '12.50/20', '7.825/10', '8.921/10', '6.24/10', '8.124/10',\n",
       "       '8.01/10', '4.56/10', '1.5/3', '4.79/10', '8.16/10', '0.59/1',\n",
       "       '2.7/4', '1.1/5', '89', '4.55/10', '2.5/6', '9.8521/10',\n",
       "       '3.7822391/10', '7.2521/10', '7.18321/10', '3.6/4', 'C  -',\n",
       "       '8.42/10', '9.73889/10', '12/100', '7.44/10', '8.5/5', '6/20',\n",
       "       '6.01/10', '34', '8.98/10', '7.48/10', '3.65/10', '7.0921/10',\n",
       "       '3.35/5', '1.4/10', '4/0', '6.96/10', '7.001/10', '5.22/10',\n",
       "       '1.8/4', '16/100', '9.889/10', '14/100', '8.999/10', '9.188/10',\n",
       "       '7.021/10', '4.42/10', '8.212121/10', '3.6/10', '0.7765823/10',\n",
       "       '8.425/10', '9.48/10', '9.30/10', '4.86/10', '7.5211/10', '5/11',\n",
       "       '8.71/10', '68', '3.7521/10', '4.021/10', '8.881/10', '5.10/10',\n",
       "       '3/5.5', '95', '5.623433899/10', '0.65/10', '7/8', '9.18/10',\n",
       "       '5.82/10', '5.212/10', '5.895/10', '6.8666/10', '920', '3.0782/10',\n",
       "       '2.95/5', '4.22/10', '0.13/5', '2.65/10', '0.4/5', '8.453895/10',\n",
       "       '6.001/10', '9.52/10', '6.16/10', '8.9521/10', '9.85621/10',\n",
       "       '76/10', '0.664363/10', '9.51/10', '5.02120621/10', '3.2/4',\n",
       "       '2/20', '5.1221/10', '12.5/20', '8.327/10', '1.88/10', '11/100',\n",
       "       '75/10', '8.39421/10', '910', '9.95/10', '2/9', '8.199/10',\n",
       "       '8.485/10', '7.621/10', '5.232121/10', '5.67/10', '8.24/10',\n",
       "       '39/40', '3/5.4', '2/100', '7.94215/10', '9.68/10', '6/5',\n",
       "       '6.19/10', '25/4', '4.5/6', '9.021/10', '8.32321/10', '7.87/10',\n",
       "       '5.50/10', '8.2521/10', '2.1/2', '5.05/10', '0.6/10', '3.5/20',\n",
       "       '9.14/10', '7.42/10', '9.2021/10', '6.05/10', '4/8', '3.54/5',\n",
       "       '14', '9.49/10', '6.97/10', '4.9834326/10', '10/90', '72', '67',\n",
       "       '45/5', '7.0155/10', '3.3/4', '6.89/10', '9.921/10', '80',\n",
       "       '0.666/4', '2.55/4', '1.1/10', '3.5/18', '73/10', '8.30/10',\n",
       "       '8.56/10', '6.8843/10', '6.00001/10', '4.364221/10', '4.293382/10',\n",
       "       '6.84/10', '9.01/10', '8.68/10', '9.649821/10', '3/45',\n",
       "       '8.692121/10', '70', '6.02/10', '0.58/1', '5.4221/10', '7.12/10',\n",
       "       '8.1921/10', '9.87/10', '8.84/10', '9.20/10', '0.8/10',\n",
       "       '8.9621/10', '3/20', '0.52/1', '8.3/100', '4/100', '1.75/10',\n",
       "       '1.8/10', '4.0001/10', '77', '5.9999/10', '9.66/10', '9.99/10',\n",
       "       '5.751/10', '7.55/10', '5.01/10', '3.56339/10', '4.558/10',\n",
       "       '7.94/10', '3.5/44', '8.765/10', '4.35/5', '21/24', '6.02121/10',\n",
       "       '1/2', '7.4921/10', '5.046/10', '9.56/10'], dtype=object)"
      ]
     },
     "execution_count": 18,
     "metadata": {},
     "output_type": "execute_result"
    }
   ],
   "source": [
    "df_tomato_review[\"review_score\"].unique()"
   ]
  },
  {
   "cell_type": "markdown",
   "metadata": {},
   "source": [
    "Ta thấy review score rất đa dạng, như score/max_score, score, alphabet score (A,B,C, ...)"
   ]
  },
  {
   "cell_type": "code",
   "execution_count": 19,
   "metadata": {},
   "outputs": [
    {
     "name": "stdout",
     "output_type": "stream",
     "text": [
      "% Số bản ghi review_score có dạng alphabet: 0.11409017007895479\n",
      "% Số bản ghi review_score bị null: 0.42140620198625706\n"
     ]
    }
   ],
   "source": [
    "count=0\n",
    "for i in df_tomato_review[\"review_score\"]:\n",
    "    if type(i)==str:\n",
    "        if not bool(re.search(r'\\d', i)):\n",
    "            count+=1\n",
    "print(\"% Số bản ghi review_score có dạng alphabet: \"+str(count/len(df_tomato_review)))\n",
    "print(\"% Số bản ghi review_score bị null: \"+str(count/sum(df_tomato_review[\"review_score\"].isna())))"
   ]
  },
  {
   "cell_type": "code",
   "execution_count": 58,
   "metadata": {},
   "outputs": [
    {
     "name": "stdout",
     "output_type": "stream",
     "text": [
      "B\n",
      "C\n",
      "C-\n",
      "B-\n",
      "C+\n",
      "D+\n",
      "B+\n",
      "A-\n",
      "A\n",
      "D-\n",
      "F\n",
      "D\n",
      "A  -\n",
      "C  -\n"
     ]
    }
   ],
   "source": [
    "# Score dạng alphabet\n",
    "for i in df_tomato_review[\"review_score\"].unique():\n",
    "    if type(i)==str:\n",
    "        if not bool(re.search(r'\\d', i)):\n",
    "            print(i)"
   ]
  },
  {
   "cell_type": "markdown",
   "metadata": {},
   "source": [
    "Ta sẽ chuyển về từ dạng alphabet score sang dạng số (100) (Lấy trung bình) (https://www.cs.uni.edu/~mccormic/lettergrade.html):\n",
    "\n",
    "|Percent|Letter Grade|\n",
    "|-|-|\n",
    "|97|A|\n",
    "|91.5|A-|\n",
    "|88|B+|\n",
    "|84.5|B|\n",
    "|81|B-|\n",
    "|78|C+|\n",
    "|74.5|C|\n",
    "|71|C-|\n",
    "|68|D+|\n",
    "|64.5|D|\n",
    "|61|D-|\n",
    "|30|F|"
   ]
  },
  {
   "cell_type": "code",
   "execution_count": 13,
   "metadata": {},
   "outputs": [],
   "source": [
    "alphabet_alphabet_dict = {\"A  -\": \"A-\", \"C  -\": \"C-\"}\n",
    "def alphabet_to_numeric(score):\n",
    "    # F\n",
    "    if score==\"F\":\n",
    "        return 30\n",
    "    # D\n",
    "    elif score==\"D-\":\n",
    "        return 61\n",
    "    elif score==\"D\":\n",
    "        return 64.5\n",
    "    elif score==\"D+\":\n",
    "        return 68\n",
    "    # C\n",
    "    elif score==\"C-\":\n",
    "        return 71\n",
    "    elif score==\"C\":\n",
    "        return 74.5\n",
    "    elif score==\"C+\":\n",
    "        return 78\n",
    "    # B\n",
    "    elif score==\"B-\":\n",
    "        return 81\n",
    "    elif score==\"B\":\n",
    "        return 84.5\n",
    "    elif score==\"B+\":\n",
    "        return 88\n",
    "    # A\n",
    "    elif score==\"A-\":\n",
    "        return 91.5\n",
    "    elif score==\"A\":\n",
    "        return 97\n",
    "\n",
    "def convert_score(score):\n",
    "    if type(score)==float:\n",
    "        return None\n",
    "    if type(score)==str:\n",
    "        # Nếu điểm là dạng alphabet => chuyển về dạng số\n",
    "        if not bool(re.search(r'\\d', score)):\n",
    "            if score in alphabet_alphabet_dict.keys():\n",
    "                return alphabet_to_numeric(alphabet_alphabet_dict[score])\n",
    "            else:\n",
    "                return alphabet_to_numeric(score)\n",
    "        else:\n",
    "            if \"/\" in score:\n",
    "                try:\n",
    "                    return eval(score)*100\n",
    "                except ZeroDivisionError:\n",
    "                    return None\n",
    "            else:\n",
    "                return eval(score)\n",
    "\n",
    "df_tomato_review[\"review_score\"]=[convert_score(i) for i in df_tomato_review[\"review_score\"]]"
   ]
  },
  {
   "cell_type": "code",
   "execution_count": 14,
   "metadata": {},
   "outputs": [],
   "source": [
    "# Loại bỏ các trường không xuất hiện trong warehouse schema\n",
    "df_tomato_movie.drop(['critics_consensus', 'authors', 'streaming_release_date', \n",
    "                      'tomatometer_status', 'audience_status', 'tomatometer_top_critics_count', \n",
    "                      'tomatometer_fresh_critics_count', 'tomatometer_rotten_critics_count', 'production_company'], axis=1, inplace=True)\n",
    "df_tomato_review.drop([\"rotten_tomatoes_link\"], axis=1, inplace=True)"
   ]
  },
  {
   "cell_type": "code",
   "execution_count": 15,
   "metadata": {},
   "outputs": [
    {
     "data": {
      "text/plain": [
       "Index(['link', 'movie_title', 'movie_info', 'content_rating', 'genres',\n",
       "       'directors', 'actors', 'release_date', 'runtime', 'tomatometer_rating',\n",
       "       'tomatometer_count', 'audience_rating', 'audience_count', 'movie_id',\n",
       "       'image'],\n",
       "      dtype='object')"
      ]
     },
     "execution_count": 15,
     "metadata": {},
     "output_type": "execute_result"
    }
   ],
   "source": [
    "# Thay đổi tên một số trường\n",
    "df_tomato_movie.rename(columns = {'rotten_tomatoes_link':'link', 'original_release_date':'release_date'}, inplace = True)\n",
    "df_tomato_movie.columns"
   ]
  },
  {
   "cell_type": "code",
   "execution_count": 38,
   "metadata": {},
   "outputs": [
    {
     "data": {
      "text/plain": [
       "Index(['critic_name', 'top_critic', 'publisher_name', 'review_type',\n",
       "       'review_score', 'review_date', 'review_content', 'movie_id'],\n",
       "      dtype='object')"
      ]
     },
     "execution_count": 38,
     "metadata": {},
     "output_type": "execute_result"
    }
   ],
   "source": [
    "df_tomato_review.columns"
   ]
  },
  {
   "cell_type": "markdown",
   "metadata": {},
   "source": [
    "## Tạo bảng trong datawarehouse"
   ]
  },
  {
   "cell_type": "code",
   "execution_count": 16,
   "metadata": {},
   "outputs": [],
   "source": [
    "df_warehouse_movie = df_tomato_movie[[\"movie_id\", \"movie_title\", \"movie_info\", \"genres\", \n",
    "                                      \"directors\", \"actors\", \"release_date\", \"runtime\", \"content_rating\", \"image\"]]\n",
    "df_warehouse_tomato_rating = df_tomato_movie[[\"movie_id\", \"tomatometer_rating\", \"tomatometer_count\", \n",
    "                                              \"audience_rating\", \"audience_count\", \"link\"]]"
   ]
  },
  {
   "cell_type": "markdown",
   "metadata": {},
   "source": [
    "# Tạo các bảng tham khảo"
   ]
  },
  {
   "cell_type": "markdown",
   "metadata": {},
   "source": [
    "## Trường content_rating"
   ]
  },
  {
   "cell_type": "code",
   "execution_count": 8,
   "metadata": {},
   "outputs": [
    {
     "data": {
      "text/plain": [
       "array(['PG', 'R', 'NR', 'G', 'PG-13', 'NC17'], dtype=object)"
      ]
     },
     "execution_count": 8,
     "metadata": {},
     "output_type": "execute_result"
    }
   ],
   "source": [
    "df_warehouse_movie['content_rating'].unique()"
   ]
  },
  {
   "cell_type": "markdown",
   "metadata": {},
   "source": [
    "content_rating description:\n",
    "\n",
    "- G: GENERAL AUDIENCES: ALL AGES ADMITTED\n",
    "- PG: PARENTAL GUIDANCE SUGGESTED: SOME MATERIAL MAY NOT BE SUITABLE FOR CHILDREN\n",
    "- PG-13: PARENTS STRONGLY CAUTIONED: SOME MATERIAL MAY BE INAPPROPRIATE FOR CHILDREN UNDER 13\n",
    "- R: RESTRICTED: UNDER 17 REQUIRES ACCOMPANYING PARENT OR ADULT GUARDIAN\n",
    "- NC-17: NO ONE 17 AND UNDER ADMITTED\n",
    "- NR: NOT RATED: THE CONTENT OF THIS FILM HAS NOT BEEN EVALUATED (TRAILER)"
   ]
  },
  {
   "cell_type": "code",
   "execution_count": 9,
   "metadata": {},
   "outputs": [],
   "source": [
    "pd.DataFrame(list(df_warehouse_movie['content_rating'].unique()), columns=[\"content_rating\"]).to_csv(\n",
    "    os.path.join(folder.field_value_dir,\"content_rating.csv\"),\n",
    "    index=False \n",
    ")"
   ]
  },
  {
   "cell_type": "markdown",
   "metadata": {},
   "source": [
    "## Trường genres"
   ]
  },
  {
   "cell_type": "markdown",
   "metadata": {},
   "source": [
    "Cấu trúc giá trị trong trường genres là <genre 1>,  <genres 2>, ..."
   ]
  },
  {
   "cell_type": "code",
   "execution_count": 11,
   "metadata": {},
   "outputs": [],
   "source": [
    "genres_list = []\n",
    "for i in df_warehouse_movie[\"genres\"]:\n",
    "    if type(i)==str:\n",
    "        genres_items = i.split(\", \")\n",
    "        genres_list += genres_items\n",
    "genres_list = list(set(genres_list))"
   ]
  },
  {
   "cell_type": "code",
   "execution_count": 14,
   "metadata": {},
   "outputs": [
    {
     "data": {
      "text/plain": [
       "['Art House & International',\n",
       " 'Sports & Fitness',\n",
       " 'Television',\n",
       " 'Science Fiction & Fantasy',\n",
       " 'Comedy',\n",
       " 'Musical & Performing Arts',\n",
       " 'Anime & Manga',\n",
       " 'Mystery & Suspense',\n",
       " 'Drama',\n",
       " 'Cult Movies',\n",
       " 'Western',\n",
       " 'Faith & Spirituality',\n",
       " 'Horror',\n",
       " 'Kids & Family',\n",
       " 'Documentary',\n",
       " 'Animation',\n",
       " 'Classics',\n",
       " 'Special Interest',\n",
       " 'Action & Adventure',\n",
       " 'Gay & Lesbian',\n",
       " 'Romance']"
      ]
     },
     "execution_count": 14,
     "metadata": {},
     "output_type": "execute_result"
    }
   ],
   "source": [
    "genres_list"
   ]
  },
  {
   "cell_type": "code",
   "execution_count": 34,
   "metadata": {},
   "outputs": [],
   "source": [
    "pd.DataFrame(genres_list, columns=[\"genres\"]).to_csv(\n",
    "    os.path.join(folder.field_value_dir,\"genres.csv\"),\n",
    "    index=False \n",
    ")"
   ]
  },
  {
   "cell_type": "markdown",
   "metadata": {},
   "source": [
    "## Trường directors và actors"
   ]
  },
  {
   "cell_type": "markdown",
   "metadata": {},
   "source": [
    "Cấu trúc giá trị của trường director <director 1>, <director 2>, ...\n",
    "\n",
    "Cấu trúc giá trị của trường actor <actor 1>, <actor 2>, ...\n"
   ]
  },
  {
   "cell_type": "code",
   "execution_count": 63,
   "metadata": {},
   "outputs": [],
   "source": [
    "name_list = []\n",
    "for i in df_warehouse_movie[\"directors\"]:\n",
    "    if type(i)==str:\n",
    "        name_items = i.split(\", \")\n",
    "        name_list += name_items\n",
    "for i in df_warehouse_movie[\"actors\"]:\n",
    "    if type(i)==str:\n",
    "        name_items = i.split(\", \")\n",
    "        name_list += name_items\n",
    "name_list = list(set(name_list))\n",
    "name_list.sort()"
   ]
  },
  {
   "cell_type": "code",
   "execution_count": 39,
   "metadata": {},
   "outputs": [
    {
     "data": {
      "text/plain": [
       "210926"
      ]
     },
     "execution_count": 39,
     "metadata": {},
     "output_type": "execute_result"
    }
   ],
   "source": [
    "len(name_list)"
   ]
  },
  {
   "cell_type": "code",
   "execution_count": 40,
   "metadata": {},
   "outputs": [],
   "source": [
    "pd.DataFrame(name_list, columns=[\"name\"]).to_csv(\n",
    "    os.path.join(folder.field_value_dir,\"directors_actors.csv\"),\n",
    "    index=False \n",
    ")"
   ]
  },
  {
   "cell_type": "markdown",
   "metadata": {},
   "source": [
    "# Lưu dữ liệu data warehouse"
   ]
  },
  {
   "cell_type": "code",
   "execution_count": 17,
   "metadata": {},
   "outputs": [],
   "source": [
    "df_warehouse_movie.to_csv(os.path.join(folder.warehouse_dir,\"movie.csv\"), index=False)\n",
    "df_warehouse_tomato_rating.to_csv(os.path.join(folder.warehouse_dir,\"tomato_rating.csv\"), index=False)\n",
    "df_tomato_review.to_csv(os.path.join(folder.warehouse_dir,\"tomato_review.csv\"), index=False)"
   ]
  }
 ],
 "metadata": {
  "interpreter": {
   "hash": "5f2e2af27bdde5936ad554feb7aa504e3a6118ea1851ab67384e2724f8720947"
  },
  "kernelspec": {
   "display_name": "Python 3.9.12 ('venv': venv)",
   "language": "python",
   "name": "python3"
  },
  "language_info": {
   "codemirror_mode": {
    "name": "ipython",
    "version": 3
   },
   "file_extension": ".py",
   "mimetype": "text/x-python",
   "name": "python",
   "nbconvert_exporter": "python",
   "pygments_lexer": "ipython3",
   "version": "3.9.12"
  },
  "orig_nbformat": 4
 },
 "nbformat": 4,
 "nbformat_minor": 2
}
